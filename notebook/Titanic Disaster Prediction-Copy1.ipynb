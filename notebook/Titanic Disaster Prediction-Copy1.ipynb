{
 "cells": [
  {
   "cell_type": "markdown",
   "id": "1bbe3b45",
   "metadata": {},
   "source": [
    "# Introduction"
   ]
  },
  {
   "cell_type": "markdown",
   "id": "048a34e7",
   "metadata": {},
   "source": [
    "The sinking of the Titanic is one of the most infamous shipwrecks in history.\n",
    "\n",
    "On April 15, 1912, during her maiden voyage, the widely considered “unsinkable” RMS Titanic sank after colliding with an iceberg. Unfortunately, there weren’t enough lifeboats for everyone onboard, resulting in the death of 1502 out of 2224 passengers and crew.\n",
    "\n",
    "While there was some element of luck involved in surviving, it seems some groups of people were more likely to survive than others.\n",
    "\n",
    "In this challenge, we ask you to build a predictive model that answers the question: “what sorts of people were more likely to survive?” using passenger data (ie name, age, gender, socio-economic class, etc)."
   ]
  },
  {
   "cell_type": "markdown",
   "id": "13a35e85",
   "metadata": {},
   "source": [
    "# Data Description"
   ]
  },
  {
   "cell_type": "markdown",
   "id": "871c8f33",
   "metadata": {},
   "source": [
    "The training set should be used to build your machine learning models. For the training set, we provide the outcome (also known as the “ground truth”) for each passenger. Your model will be based on “features” like passengers’ gender and class. You can also use feature engineering to create new features.\n",
    "\n",
    "The test set should be used to see how well your model performs on unseen data. For the test set, we do not provide the ground truth for each passenger. It is your job to predict these outcomes. For each passenger in the test set, use the model you trained to predict whether or not they survived the sinking of the Titanic.\n",
    "\n",
    "We also include gender_submission.csv, a set of predictions that assume all and only female passengers survive, as an example of what a submission file should look like."
   ]
  },
  {
   "cell_type": "markdown",
   "id": "480daf15",
   "metadata": {},
   "source": [
    "Variable Notes\n",
    "pclass: A proxy for socio-economic status (SES)\n",
    "1st = Upper\n",
    "2nd = Middle\n",
    "3rd = Lower\n",
    "\n",
    "age: Age is fractional if less than 1. If the age is estimated, is it in the form of xx.5\n",
    "\n",
    "sibsp: The dataset defines family relations in this way...\n",
    "\n",
    "Sibling = brother, sister, stepbrother, stepsister\n",
    "\n",
    "Spouse = husband, wife (mistresses and fiancés were ignored)\n",
    "\n",
    "parch: The dataset defines family relations in this way...\n",
    "\n",
    "Parent = mother, father\n",
    "\n",
    "Child = daughter, son, stepdaughter, stepson\n",
    "\n",
    "Some children travelled only with a nanny, therefore parch=0 for them."
   ]
  },
  {
   "cell_type": "markdown",
   "id": "2c5651c0",
   "metadata": {},
   "source": [
    "Variable\tDefinition\tKey\n",
    "survival\tSurvival\t0 = No, 1 = Yes\n",
    "pclass\tTicket class\t1 = 1st, 2 = 2nd, 3 = 3rd\n",
    "sex\tSex\t\n",
    "Age\tAge in years\t\n",
    "sibsp\t# of siblings / spouses aboard the Titanic\t\n",
    "parch\t# of parents / children aboard the Titanic\t\n",
    "ticket\tTicket number\t\n",
    "fare\tPassenger fare\t\n",
    "cabin\tCabin number\t\n",
    "embarked\tPort of Embarkation\tC = Cherbourg, Q = Queenstown, S = Southampton"
   ]
  },
  {
   "cell_type": "markdown",
   "id": "e5c861b0",
   "metadata": {},
   "source": [
    "# Loading Libraries"
   ]
  },
  {
   "cell_type": "code",
   "execution_count": 158,
   "id": "eb747290",
   "metadata": {},
   "outputs": [],
   "source": [
    "import pandas as pd #For Data Analysis\n",
    "import numpy as np # For numerical Computations\n",
    "import matplotlib.pyplot as plt # For Visualization\n",
    "import seaborn as sns # For Visualization\n",
    "import re # For Capturing words\n",
    "plt.style.use('fivethirtyeight')"
   ]
  },
  {
   "cell_type": "markdown",
   "id": "e784d2ef",
   "metadata": {},
   "source": [
    "# Loading Datasets"
   ]
  },
  {
   "cell_type": "code",
   "execution_count": 159,
   "id": "4745a91c",
   "metadata": {},
   "outputs": [],
   "source": [
    "train_df = pd.read_csv('../data/train.csv')\n",
    "test_df = pd.read_csv('../data/test.csv')"
   ]
  },
  {
   "cell_type": "markdown",
   "id": "3c860555",
   "metadata": {},
   "source": [
    "# Data Information and data types"
   ]
  },
  {
   "cell_type": "code",
   "execution_count": 160,
   "id": "19e35501",
   "metadata": {},
   "outputs": [
    {
     "name": "stdout",
     "output_type": "stream",
     "text": [
      "<class 'pandas.core.frame.DataFrame'>\n",
      "RangeIndex: 891 entries, 0 to 890\n",
      "Data columns (total 12 columns):\n",
      " #   Column       Non-Null Count  Dtype  \n",
      "---  ------       --------------  -----  \n",
      " 0   PassengerId  891 non-null    int64  \n",
      " 1   Survived     891 non-null    int64  \n",
      " 2   Pclass       891 non-null    int64  \n",
      " 3   Name         891 non-null    object \n",
      " 4   Sex          891 non-null    object \n",
      " 5   Age          714 non-null    float64\n",
      " 6   SibSp        891 non-null    int64  \n",
      " 7   Parch        891 non-null    int64  \n",
      " 8   Ticket       891 non-null    object \n",
      " 9   Fare         891 non-null    float64\n",
      " 10  Cabin        204 non-null    object \n",
      " 11  Embarked     889 non-null    object \n",
      "dtypes: float64(2), int64(5), object(5)\n",
      "memory usage: 83.7+ KB\n"
     ]
    }
   ],
   "source": [
    "# Checking the Datatypes of the columns\n",
    "train_df.info()"
   ]
  },
  {
   "cell_type": "code",
   "execution_count": 161,
   "id": "e826d690",
   "metadata": {},
   "outputs": [
    {
     "name": "stdout",
     "output_type": "stream",
     "text": [
      "<class 'pandas.core.frame.DataFrame'>\n",
      "RangeIndex: 418 entries, 0 to 417\n",
      "Data columns (total 11 columns):\n",
      " #   Column       Non-Null Count  Dtype  \n",
      "---  ------       --------------  -----  \n",
      " 0   PassengerId  418 non-null    int64  \n",
      " 1   Pclass       418 non-null    int64  \n",
      " 2   Name         418 non-null    object \n",
      " 3   Sex          418 non-null    object \n",
      " 4   Age          332 non-null    float64\n",
      " 5   SibSp        418 non-null    int64  \n",
      " 6   Parch        418 non-null    int64  \n",
      " 7   Ticket       418 non-null    object \n",
      " 8   Fare         417 non-null    float64\n",
      " 9   Cabin        91 non-null     object \n",
      " 10  Embarked     418 non-null    object \n",
      "dtypes: float64(2), int64(4), object(5)\n",
      "memory usage: 36.0+ KB\n"
     ]
    }
   ],
   "source": [
    "test_df.info()"
   ]
  },
  {
   "cell_type": "markdown",
   "id": "81818647",
   "metadata": {},
   "source": [
    "# EDA of training data"
   ]
  },
  {
   "cell_type": "code",
   "execution_count": 162,
   "id": "0a1b0050",
   "metadata": {},
   "outputs": [
    {
     "data": {
      "text/html": [
       "<div>\n",
       "<style scoped>\n",
       "    .dataframe tbody tr th:only-of-type {\n",
       "        vertical-align: middle;\n",
       "    }\n",
       "\n",
       "    .dataframe tbody tr th {\n",
       "        vertical-align: top;\n",
       "    }\n",
       "\n",
       "    .dataframe thead th {\n",
       "        text-align: right;\n",
       "    }\n",
       "</style>\n",
       "<table border=\"1\" class=\"dataframe\">\n",
       "  <thead>\n",
       "    <tr style=\"text-align: right;\">\n",
       "      <th></th>\n",
       "      <th>PassengerId</th>\n",
       "      <th>Survived</th>\n",
       "      <th>Pclass</th>\n",
       "      <th>Name</th>\n",
       "      <th>Sex</th>\n",
       "      <th>Age</th>\n",
       "      <th>SibSp</th>\n",
       "      <th>Parch</th>\n",
       "      <th>Ticket</th>\n",
       "      <th>Fare</th>\n",
       "      <th>Cabin</th>\n",
       "      <th>Embarked</th>\n",
       "    </tr>\n",
       "  </thead>\n",
       "  <tbody>\n",
       "    <tr>\n",
       "      <th>0</th>\n",
       "      <td>1</td>\n",
       "      <td>0</td>\n",
       "      <td>3</td>\n",
       "      <td>Braund, Mr. Owen Harris</td>\n",
       "      <td>male</td>\n",
       "      <td>22.0</td>\n",
       "      <td>1</td>\n",
       "      <td>0</td>\n",
       "      <td>A/5 21171</td>\n",
       "      <td>7.2500</td>\n",
       "      <td>NaN</td>\n",
       "      <td>S</td>\n",
       "    </tr>\n",
       "    <tr>\n",
       "      <th>1</th>\n",
       "      <td>2</td>\n",
       "      <td>1</td>\n",
       "      <td>1</td>\n",
       "      <td>Cumings, Mrs. John Bradley (Florence Briggs Th...</td>\n",
       "      <td>female</td>\n",
       "      <td>38.0</td>\n",
       "      <td>1</td>\n",
       "      <td>0</td>\n",
       "      <td>PC 17599</td>\n",
       "      <td>71.2833</td>\n",
       "      <td>C85</td>\n",
       "      <td>C</td>\n",
       "    </tr>\n",
       "    <tr>\n",
       "      <th>2</th>\n",
       "      <td>3</td>\n",
       "      <td>1</td>\n",
       "      <td>3</td>\n",
       "      <td>Heikkinen, Miss. Laina</td>\n",
       "      <td>female</td>\n",
       "      <td>26.0</td>\n",
       "      <td>0</td>\n",
       "      <td>0</td>\n",
       "      <td>STON/O2. 3101282</td>\n",
       "      <td>7.9250</td>\n",
       "      <td>NaN</td>\n",
       "      <td>S</td>\n",
       "    </tr>\n",
       "    <tr>\n",
       "      <th>3</th>\n",
       "      <td>4</td>\n",
       "      <td>1</td>\n",
       "      <td>1</td>\n",
       "      <td>Futrelle, Mrs. Jacques Heath (Lily May Peel)</td>\n",
       "      <td>female</td>\n",
       "      <td>35.0</td>\n",
       "      <td>1</td>\n",
       "      <td>0</td>\n",
       "      <td>113803</td>\n",
       "      <td>53.1000</td>\n",
       "      <td>C123</td>\n",
       "      <td>S</td>\n",
       "    </tr>\n",
       "    <tr>\n",
       "      <th>4</th>\n",
       "      <td>5</td>\n",
       "      <td>0</td>\n",
       "      <td>3</td>\n",
       "      <td>Allen, Mr. William Henry</td>\n",
       "      <td>male</td>\n",
       "      <td>35.0</td>\n",
       "      <td>0</td>\n",
       "      <td>0</td>\n",
       "      <td>373450</td>\n",
       "      <td>8.0500</td>\n",
       "      <td>NaN</td>\n",
       "      <td>S</td>\n",
       "    </tr>\n",
       "  </tbody>\n",
       "</table>\n",
       "</div>"
      ],
      "text/plain": [
       "   PassengerId  Survived  Pclass  \\\n",
       "0            1         0       3   \n",
       "1            2         1       1   \n",
       "2            3         1       3   \n",
       "3            4         1       1   \n",
       "4            5         0       3   \n",
       "\n",
       "                                                Name     Sex   Age  SibSp  \\\n",
       "0                            Braund, Mr. Owen Harris    male  22.0      1   \n",
       "1  Cumings, Mrs. John Bradley (Florence Briggs Th...  female  38.0      1   \n",
       "2                             Heikkinen, Miss. Laina  female  26.0      0   \n",
       "3       Futrelle, Mrs. Jacques Heath (Lily May Peel)  female  35.0      1   \n",
       "4                           Allen, Mr. William Henry    male  35.0      0   \n",
       "\n",
       "   Parch            Ticket     Fare Cabin Embarked  \n",
       "0      0         A/5 21171   7.2500   NaN        S  \n",
       "1      0          PC 17599  71.2833   C85        C  \n",
       "2      0  STON/O2. 3101282   7.9250   NaN        S  \n",
       "3      0            113803  53.1000  C123        S  \n",
       "4      0            373450   8.0500   NaN        S  "
      ]
     },
     "execution_count": 162,
     "metadata": {},
     "output_type": "execute_result"
    }
   ],
   "source": [
    "train_df.head()"
   ]
  },
  {
   "cell_type": "code",
   "execution_count": 163,
   "id": "daeb0acb",
   "metadata": {},
   "outputs": [
    {
     "data": {
      "text/plain": [
       "Index(['passengerid', 'survived', 'pclass', 'name', 'sex', 'age', 'sibsp',\n",
       "       'parch', 'ticket', 'fare', 'cabin', 'embarked'],\n",
       "      dtype='object')"
      ]
     },
     "execution_count": 163,
     "metadata": {},
     "output_type": "execute_result"
    }
   ],
   "source": [
    "# Converting the column names to lower_case and replacing some headings\n",
    "train_df.columns = [x.lower() for x in train_df.columns]\n",
    "train_df.columns"
   ]
  },
  {
   "cell_type": "code",
   "execution_count": 164,
   "id": "afd11eea",
   "metadata": {},
   "outputs": [],
   "source": [
    "train_df.rename(columns={\n",
    "            \"passengerid\":\"passenger_id\",\n",
    "            \"pclass\":\"passenger_class\",\n",
    "            \"sibsp\":\"sibling_spouse\",\n",
    "            \"parch\":\"parent_children\"\n",
    "        }, inplace=True)"
   ]
  },
  {
   "cell_type": "code",
   "execution_count": 165,
   "id": "9ffbd42a",
   "metadata": {},
   "outputs": [
    {
     "data": {
      "text/html": [
       "<div>\n",
       "<style scoped>\n",
       "    .dataframe tbody tr th:only-of-type {\n",
       "        vertical-align: middle;\n",
       "    }\n",
       "\n",
       "    .dataframe tbody tr th {\n",
       "        vertical-align: top;\n",
       "    }\n",
       "\n",
       "    .dataframe thead th {\n",
       "        text-align: right;\n",
       "    }\n",
       "</style>\n",
       "<table border=\"1\" class=\"dataframe\">\n",
       "  <thead>\n",
       "    <tr style=\"text-align: right;\">\n",
       "      <th></th>\n",
       "      <th>passenger_id</th>\n",
       "      <th>survived</th>\n",
       "      <th>passenger_class</th>\n",
       "      <th>name</th>\n",
       "      <th>sex</th>\n",
       "      <th>age</th>\n",
       "      <th>sibling_spouse</th>\n",
       "      <th>parent_children</th>\n",
       "      <th>ticket</th>\n",
       "      <th>fare</th>\n",
       "      <th>cabin</th>\n",
       "      <th>embarked</th>\n",
       "    </tr>\n",
       "  </thead>\n",
       "  <tbody>\n",
       "    <tr>\n",
       "      <th>0</th>\n",
       "      <td>1</td>\n",
       "      <td>0</td>\n",
       "      <td>3</td>\n",
       "      <td>Braund, Mr. Owen Harris</td>\n",
       "      <td>male</td>\n",
       "      <td>22.0</td>\n",
       "      <td>1</td>\n",
       "      <td>0</td>\n",
       "      <td>A/5 21171</td>\n",
       "      <td>7.2500</td>\n",
       "      <td>NaN</td>\n",
       "      <td>S</td>\n",
       "    </tr>\n",
       "    <tr>\n",
       "      <th>1</th>\n",
       "      <td>2</td>\n",
       "      <td>1</td>\n",
       "      <td>1</td>\n",
       "      <td>Cumings, Mrs. John Bradley (Florence Briggs Th...</td>\n",
       "      <td>female</td>\n",
       "      <td>38.0</td>\n",
       "      <td>1</td>\n",
       "      <td>0</td>\n",
       "      <td>PC 17599</td>\n",
       "      <td>71.2833</td>\n",
       "      <td>C85</td>\n",
       "      <td>C</td>\n",
       "    </tr>\n",
       "    <tr>\n",
       "      <th>2</th>\n",
       "      <td>3</td>\n",
       "      <td>1</td>\n",
       "      <td>3</td>\n",
       "      <td>Heikkinen, Miss. Laina</td>\n",
       "      <td>female</td>\n",
       "      <td>26.0</td>\n",
       "      <td>0</td>\n",
       "      <td>0</td>\n",
       "      <td>STON/O2. 3101282</td>\n",
       "      <td>7.9250</td>\n",
       "      <td>NaN</td>\n",
       "      <td>S</td>\n",
       "    </tr>\n",
       "    <tr>\n",
       "      <th>3</th>\n",
       "      <td>4</td>\n",
       "      <td>1</td>\n",
       "      <td>1</td>\n",
       "      <td>Futrelle, Mrs. Jacques Heath (Lily May Peel)</td>\n",
       "      <td>female</td>\n",
       "      <td>35.0</td>\n",
       "      <td>1</td>\n",
       "      <td>0</td>\n",
       "      <td>113803</td>\n",
       "      <td>53.1000</td>\n",
       "      <td>C123</td>\n",
       "      <td>S</td>\n",
       "    </tr>\n",
       "    <tr>\n",
       "      <th>4</th>\n",
       "      <td>5</td>\n",
       "      <td>0</td>\n",
       "      <td>3</td>\n",
       "      <td>Allen, Mr. William Henry</td>\n",
       "      <td>male</td>\n",
       "      <td>35.0</td>\n",
       "      <td>0</td>\n",
       "      <td>0</td>\n",
       "      <td>373450</td>\n",
       "      <td>8.0500</td>\n",
       "      <td>NaN</td>\n",
       "      <td>S</td>\n",
       "    </tr>\n",
       "  </tbody>\n",
       "</table>\n",
       "</div>"
      ],
      "text/plain": [
       "   passenger_id  survived  passenger_class  \\\n",
       "0             1         0                3   \n",
       "1             2         1                1   \n",
       "2             3         1                3   \n",
       "3             4         1                1   \n",
       "4             5         0                3   \n",
       "\n",
       "                                                name     sex   age  \\\n",
       "0                            Braund, Mr. Owen Harris    male  22.0   \n",
       "1  Cumings, Mrs. John Bradley (Florence Briggs Th...  female  38.0   \n",
       "2                             Heikkinen, Miss. Laina  female  26.0   \n",
       "3       Futrelle, Mrs. Jacques Heath (Lily May Peel)  female  35.0   \n",
       "4                           Allen, Mr. William Henry    male  35.0   \n",
       "\n",
       "   sibling_spouse  parent_children            ticket     fare cabin embarked  \n",
       "0               1                0         A/5 21171   7.2500   NaN        S  \n",
       "1               1                0          PC 17599  71.2833   C85        C  \n",
       "2               0                0  STON/O2. 3101282   7.9250   NaN        S  \n",
       "3               1                0            113803  53.1000  C123        S  \n",
       "4               0                0            373450   8.0500   NaN        S  "
      ]
     },
     "execution_count": 165,
     "metadata": {},
     "output_type": "execute_result"
    }
   ],
   "source": [
    "train_df.head()"
   ]
  },
  {
   "cell_type": "markdown",
   "id": "b11d55e3",
   "metadata": {},
   "source": [
    "# Finding missing values"
   ]
  },
  {
   "cell_type": "code",
   "execution_count": 166,
   "id": "d82070de",
   "metadata": {},
   "outputs": [
    {
     "data": {
      "text/plain": [
       "passenger_id         0\n",
       "survived             0\n",
       "passenger_class      0\n",
       "name                 0\n",
       "sex                  0\n",
       "age                177\n",
       "sibling_spouse       0\n",
       "parent_children      0\n",
       "ticket               0\n",
       "fare                 0\n",
       "cabin              687\n",
       "embarked             2\n",
       "dtype: int64"
      ]
     },
     "execution_count": 166,
     "metadata": {},
     "output_type": "execute_result"
    }
   ],
   "source": [
    "train_df.isnull().sum()"
   ]
  },
  {
   "cell_type": "code",
   "execution_count": 167,
   "id": "43775536",
   "metadata": {},
   "outputs": [
    {
     "data": {
      "text/plain": [
       "<AxesSubplot:>"
      ]
     },
     "execution_count": 167,
     "metadata": {},
     "output_type": "execute_result"
    },
    {
     "data": {
      "image/png": "[encoded data removed]",
      "text/plain": [
       "<Figure size 432x288 with 1 Axes>"
      ]
     },
     "metadata": {},
     "output_type": "display_data"
    }
   ],
   "source": [
    "train_df.isnull().sum().plot(kind='bar')"
   ]
  },
  {
   "cell_type": "code",
   "execution_count": 168,
   "id": "e63b9e3b",
   "metadata": {},
   "outputs": [
    {
     "data": {
      "text/plain": [
       "<AxesSubplot:>"
      ]
     },
     "execution_count": 168,
     "metadata": {},
     "output_type": "execute_result"
    },
    {
     "data": {
      "image/png": "[encoded data removed]",
      "text/plain": [
       "<Figure size 432x288 with 1 Axes>"
      ]
     },
     "metadata": {},
     "output_type": "display_data"
    }
   ],
   "source": [
    "# Pictorial\n",
    "sns.heatmap(train_df.isnull(), cbar=False)\n"
   ]
  },
  {
   "cell_type": "markdown",
   "id": "75e69546",
   "metadata": {},
   "source": [
    "It seems there is a some missing values in Age, Embarked. And a Lot of data values is missing in Cabin Column"
   ]
  },
  {
   "cell_type": "markdown",
   "id": "3c25dad3",
   "metadata": {},
   "source": [
    "### Missing Values: \n",
    "- [ ] Age\n",
    "- [ ] Embarked\n",
    "- [ ] Cabin\n"
   ]
  },
  {
   "cell_type": "markdown",
   "id": "1649ccac",
   "metadata": {},
   "source": [
    "# Filling Missing values in Age Column"
   ]
  },
  {
   "cell_type": "code",
   "execution_count": 169,
   "id": "4c51379d",
   "metadata": {},
   "outputs": [
    {
     "data": {
      "text/plain": [
       "177"
      ]
     },
     "execution_count": 169,
     "metadata": {},
     "output_type": "execute_result"
    }
   ],
   "source": [
    "train_df.age.isnull().sum()"
   ]
  },
  {
   "cell_type": "code",
   "execution_count": 170,
   "id": "e87f9781",
   "metadata": {},
   "outputs": [
    {
     "data": {
      "text/plain": [
       "array([22.  , 38.  , 26.  , 35.  ,   nan, 54.  ,  2.  , 27.  , 14.  ,\n",
       "        4.  , 58.  , 20.  , 39.  , 55.  , 31.  , 34.  , 15.  , 28.  ,\n",
       "        8.  , 19.  , 40.  , 66.  , 42.  , 21.  , 18.  ,  3.  ,  7.  ,\n",
       "       49.  , 29.  , 65.  , 28.5 ,  5.  , 11.  , 45.  , 17.  , 32.  ,\n",
       "       16.  , 25.  ,  0.83, 30.  , 33.  , 23.  , 24.  , 46.  , 59.  ,\n",
       "       71.  , 37.  , 47.  , 14.5 , 70.5 , 32.5 , 12.  ,  9.  , 36.5 ,\n",
       "       51.  , 55.5 , 40.5 , 44.  ,  1.  , 61.  , 56.  , 50.  , 36.  ,\n",
       "       45.5 , 20.5 , 62.  , 41.  , 52.  , 63.  , 23.5 ,  0.92, 43.  ,\n",
       "       60.  , 10.  , 64.  , 13.  , 48.  ,  0.75, 53.  , 57.  , 80.  ,\n",
       "       70.  , 24.5 ,  6.  ,  0.67, 30.5 ,  0.42, 34.5 , 74.  ])"
      ]
     },
     "execution_count": 170,
     "metadata": {},
     "output_type": "execute_result"
    }
   ],
   "source": [
    "train_df.age.unique()"
   ]
  },
  {
   "cell_type": "markdown",
   "id": "1f1d9afd",
   "metadata": {},
   "source": [
    "### Types of filling in the data:\n",
    "\n",
    "1. Filling the missing data with the mean or median value if it’s a numerical variable.\n",
    "2. Filling the missing data with mode if it’s a categorical value.\n",
    "3. Filling the numerical value with 0 or -999, or some other number that will not occur in the data. This can be done so that the machine can recognize that the data is not real or is different.\n",
    "4. Filling the categorical value with a new type for the missing values."
   ]
  },
  {
   "cell_type": "markdown",
   "id": "5129a608",
   "metadata": {},
   "source": [
    "### Process for filling missing values in Age\n",
    "1. Since its a continous values, we can use either mean or median - Here we can use <b>Median</b>\n",
    "2. Since there are different categories in male and female as well by age category - like Mr, Master, Don\n",
    "3. So we can group the individual category and fill the median value to the missing items\n"
   ]
  },
  {
   "cell_type": "markdown",
   "id": "4cc40024",
   "metadata": {},
   "source": [
    "We can get the Mr, Master.... details from the name column"
   ]
  },
  {
   "cell_type": "code",
   "execution_count": 171,
   "id": "03f22ed8",
   "metadata": {},
   "outputs": [
    {
     "data": {
      "text/plain": [
       "0        Mr\n",
       "1       Mrs\n",
       "2      Miss\n",
       "3       Mrs\n",
       "4        Mr\n",
       "       ... \n",
       "886     Rev\n",
       "887    Miss\n",
       "888    Miss\n",
       "889      Mr\n",
       "890      Mr\n",
       "Name: name, Length: 891, dtype: object"
      ]
     },
     "execution_count": 171,
     "metadata": {},
     "output_type": "execute_result"
    }
   ],
   "source": [
    "train_df.name.apply(lambda x: x.split(\",\")[1].split(\".\")[0].strip())"
   ]
  },
  {
   "cell_type": "code",
   "execution_count": 172,
   "id": "27b9601b",
   "metadata": {},
   "outputs": [],
   "source": [
    "# Now we can create a new column, called salutation and populate these data \n",
    "train_df[\"salutation\"] = train_df.name.apply(lambda x: x.split(\",\")[1].split(\".\")[0].strip())"
   ]
  },
  {
   "cell_type": "code",
   "execution_count": 173,
   "id": "a9ae0ce4",
   "metadata": {},
   "outputs": [
    {
     "data": {
      "text/html": [
       "<div>\n",
       "<style scoped>\n",
       "    .dataframe tbody tr th:only-of-type {\n",
       "        vertical-align: middle;\n",
       "    }\n",
       "\n",
       "    .dataframe tbody tr th {\n",
       "        vertical-align: top;\n",
       "    }\n",
       "\n",
       "    .dataframe thead th {\n",
       "        text-align: right;\n",
       "    }\n",
       "</style>\n",
       "<table border=\"1\" class=\"dataframe\">\n",
       "  <thead>\n",
       "    <tr style=\"text-align: right;\">\n",
       "      <th></th>\n",
       "      <th>passenger_id</th>\n",
       "      <th>survived</th>\n",
       "      <th>passenger_class</th>\n",
       "      <th>name</th>\n",
       "      <th>sex</th>\n",
       "      <th>age</th>\n",
       "      <th>sibling_spouse</th>\n",
       "      <th>parent_children</th>\n",
       "      <th>ticket</th>\n",
       "      <th>fare</th>\n",
       "      <th>cabin</th>\n",
       "      <th>embarked</th>\n",
       "      <th>salutation</th>\n",
       "    </tr>\n",
       "  </thead>\n",
       "  <tbody>\n",
       "    <tr>\n",
       "      <th>0</th>\n",
       "      <td>1</td>\n",
       "      <td>0</td>\n",
       "      <td>3</td>\n",
       "      <td>Braund, Mr. Owen Harris</td>\n",
       "      <td>male</td>\n",
       "      <td>22.0</td>\n",
       "      <td>1</td>\n",
       "      <td>0</td>\n",
       "      <td>A/5 21171</td>\n",
       "      <td>7.2500</td>\n",
       "      <td>NaN</td>\n",
       "      <td>S</td>\n",
       "      <td>Mr</td>\n",
       "    </tr>\n",
       "    <tr>\n",
       "      <th>1</th>\n",
       "      <td>2</td>\n",
       "      <td>1</td>\n",
       "      <td>1</td>\n",
       "      <td>Cumings, Mrs. John Bradley (Florence Briggs Th...</td>\n",
       "      <td>female</td>\n",
       "      <td>38.0</td>\n",
       "      <td>1</td>\n",
       "      <td>0</td>\n",
       "      <td>PC 17599</td>\n",
       "      <td>71.2833</td>\n",
       "      <td>C85</td>\n",
       "      <td>C</td>\n",
       "      <td>Mrs</td>\n",
       "    </tr>\n",
       "    <tr>\n",
       "      <th>2</th>\n",
       "      <td>3</td>\n",
       "      <td>1</td>\n",
       "      <td>3</td>\n",
       "      <td>Heikkinen, Miss. Laina</td>\n",
       "      <td>female</td>\n",
       "      <td>26.0</td>\n",
       "      <td>0</td>\n",
       "      <td>0</td>\n",
       "      <td>STON/O2. 3101282</td>\n",
       "      <td>7.9250</td>\n",
       "      <td>NaN</td>\n",
       "      <td>S</td>\n",
       "      <td>Miss</td>\n",
       "    </tr>\n",
       "    <tr>\n",
       "      <th>3</th>\n",
       "      <td>4</td>\n",
       "      <td>1</td>\n",
       "      <td>1</td>\n",
       "      <td>Futrelle, Mrs. Jacques Heath (Lily May Peel)</td>\n",
       "      <td>female</td>\n",
       "      <td>35.0</td>\n",
       "      <td>1</td>\n",
       "      <td>0</td>\n",
       "      <td>113803</td>\n",
       "      <td>53.1000</td>\n",
       "      <td>C123</td>\n",
       "      <td>S</td>\n",
       "      <td>Mrs</td>\n",
       "    </tr>\n",
       "    <tr>\n",
       "      <th>4</th>\n",
       "      <td>5</td>\n",
       "      <td>0</td>\n",
       "      <td>3</td>\n",
       "      <td>Allen, Mr. William Henry</td>\n",
       "      <td>male</td>\n",
       "      <td>35.0</td>\n",
       "      <td>0</td>\n",
       "      <td>0</td>\n",
       "      <td>373450</td>\n",
       "      <td>8.0500</td>\n",
       "      <td>NaN</td>\n",
       "      <td>S</td>\n",
       "      <td>Mr</td>\n",
       "    </tr>\n",
       "  </tbody>\n",
       "</table>\n",
       "</div>"
      ],
      "text/plain": [
       "   passenger_id  survived  passenger_class  \\\n",
       "0             1         0                3   \n",
       "1             2         1                1   \n",
       "2             3         1                3   \n",
       "3             4         1                1   \n",
       "4             5         0                3   \n",
       "\n",
       "                                                name     sex   age  \\\n",
       "0                            Braund, Mr. Owen Harris    male  22.0   \n",
       "1  Cumings, Mrs. John Bradley (Florence Briggs Th...  female  38.0   \n",
       "2                             Heikkinen, Miss. Laina  female  26.0   \n",
       "3       Futrelle, Mrs. Jacques Heath (Lily May Peel)  female  35.0   \n",
       "4                           Allen, Mr. William Henry    male  35.0   \n",
       "\n",
       "   sibling_spouse  parent_children            ticket     fare cabin embarked  \\\n",
       "0               1                0         A/5 21171   7.2500   NaN        S   \n",
       "1               1                0          PC 17599  71.2833   C85        C   \n",
       "2               0                0  STON/O2. 3101282   7.9250   NaN        S   \n",
       "3               1                0            113803  53.1000  C123        S   \n",
       "4               0                0            373450   8.0500   NaN        S   \n",
       "\n",
       "  salutation  \n",
       "0         Mr  \n",
       "1        Mrs  \n",
       "2       Miss  \n",
       "3        Mrs  \n",
       "4         Mr  "
      ]
     },
     "execution_count": 173,
     "metadata": {},
     "output_type": "execute_result"
    }
   ],
   "source": [
    "train_df.head()"
   ]
  },
  {
   "cell_type": "code",
   "execution_count": 174,
   "id": "5c0bf4d9",
   "metadata": {},
   "outputs": [
    {
     "data": {
      "image/png": "[encoded data removed]",
      "text/plain": [
       "<Figure size 1152x360 with 1 Axes>"
      ]
     },
     "metadata": {},
     "output_type": "display_data"
    }
   ],
   "source": [
    "#plotting countplot for salutations\n",
    "plt.figure(figsize=(16,5))\n",
    "sns.countplot(x='salutation', data=train_df)\n",
    "plt.xlabel(\"Salutation\", fontsize=16) \n",
    "plt.ylabel(\"Count\", fontsize=16)\n",
    "plt.title(\"Salutation Count\", fontsize=20) \n",
    "plt.xticks(rotation=45)\n",
    "plt.show()\n"
   ]
  },
  {
   "cell_type": "markdown",
   "id": "4af38fed",
   "metadata": {},
   "source": [
    "From the above graph, we can see that we have more categories in salutation, we can try to reduce it by mapping\n"
   ]
  },
  {
   "cell_type": "code",
   "execution_count": 175,
   "id": "b7702729",
   "metadata": {},
   "outputs": [],
   "source": [
    "# Creating Categories\n",
    "salutation_dict = {\n",
    "\"Capt\": \"0\",\n",
    "\"Col\": \"0\",\n",
    "\"Major\": \"0\",\n",
    "\"Dr\": \"0\",\n",
    "\"Rev\": \"0\",\n",
    "\"Jonkheer\": \"1\",\n",
    "\"Don\": \"1\",\n",
    "\"Sir\" :  \"1\",\n",
    "\"the Countess\":\"1\",\n",
    "\"Dona\": \"1\",\n",
    "\"Lady\" : \"1\",\n",
    "\"Mme\": \"2\",\n",
    "\"Ms\": \"2\",\n",
    "\"Mrs\" : \"2\",\n",
    "\"Mlle\":  \"3\",\n",
    "\"Miss\" : \"3\",\n",
    "\"Mr\" :   \"4\",\n",
    "\"Master\": \"5\"\n",
    "}"
   ]
  },
  {
   "cell_type": "code",
   "execution_count": 176,
   "id": "e72ff1f7",
   "metadata": {},
   "outputs": [],
   "source": [
    "train_df['salutation'] = train_df.salutation.map(salutation_dict)"
   ]
  },
  {
   "cell_type": "code",
   "execution_count": 177,
   "id": "6269bf53",
   "metadata": {},
   "outputs": [
    {
     "data": {
      "text/html": [
       "<div>\n",
       "<style scoped>\n",
       "    .dataframe tbody tr th:only-of-type {\n",
       "        vertical-align: middle;\n",
       "    }\n",
       "\n",
       "    .dataframe tbody tr th {\n",
       "        vertical-align: top;\n",
       "    }\n",
       "\n",
       "    .dataframe thead th {\n",
       "        text-align: right;\n",
       "    }\n",
       "</style>\n",
       "<table border=\"1\" class=\"dataframe\">\n",
       "  <thead>\n",
       "    <tr style=\"text-align: right;\">\n",
       "      <th></th>\n",
       "      <th>passenger_id</th>\n",
       "      <th>survived</th>\n",
       "      <th>passenger_class</th>\n",
       "      <th>name</th>\n",
       "      <th>sex</th>\n",
       "      <th>age</th>\n",
       "      <th>sibling_spouse</th>\n",
       "      <th>parent_children</th>\n",
       "      <th>ticket</th>\n",
       "      <th>fare</th>\n",
       "      <th>cabin</th>\n",
       "      <th>embarked</th>\n",
       "      <th>salutation</th>\n",
       "    </tr>\n",
       "  </thead>\n",
       "  <tbody>\n",
       "    <tr>\n",
       "      <th>0</th>\n",
       "      <td>1</td>\n",
       "      <td>0</td>\n",
       "      <td>3</td>\n",
       "      <td>Braund, Mr. Owen Harris</td>\n",
       "      <td>male</td>\n",
       "      <td>22.0</td>\n",
       "      <td>1</td>\n",
       "      <td>0</td>\n",
       "      <td>A/5 21171</td>\n",
       "      <td>7.2500</td>\n",
       "      <td>NaN</td>\n",
       "      <td>S</td>\n",
       "      <td>4</td>\n",
       "    </tr>\n",
       "    <tr>\n",
       "      <th>1</th>\n",
       "      <td>2</td>\n",
       "      <td>1</td>\n",
       "      <td>1</td>\n",
       "      <td>Cumings, Mrs. John Bradley (Florence Briggs Th...</td>\n",
       "      <td>female</td>\n",
       "      <td>38.0</td>\n",
       "      <td>1</td>\n",
       "      <td>0</td>\n",
       "      <td>PC 17599</td>\n",
       "      <td>71.2833</td>\n",
       "      <td>C85</td>\n",
       "      <td>C</td>\n",
       "      <td>2</td>\n",
       "    </tr>\n",
       "    <tr>\n",
       "      <th>2</th>\n",
       "      <td>3</td>\n",
       "      <td>1</td>\n",
       "      <td>3</td>\n",
       "      <td>Heikkinen, Miss. Laina</td>\n",
       "      <td>female</td>\n",
       "      <td>26.0</td>\n",
       "      <td>0</td>\n",
       "      <td>0</td>\n",
       "      <td>STON/O2. 3101282</td>\n",
       "      <td>7.9250</td>\n",
       "      <td>NaN</td>\n",
       "      <td>S</td>\n",
       "      <td>3</td>\n",
       "    </tr>\n",
       "    <tr>\n",
       "      <th>3</th>\n",
       "      <td>4</td>\n",
       "      <td>1</td>\n",
       "      <td>1</td>\n",
       "      <td>Futrelle, Mrs. Jacques Heath (Lily May Peel)</td>\n",
       "      <td>female</td>\n",
       "      <td>35.0</td>\n",
       "      <td>1</td>\n",
       "      <td>0</td>\n",
       "      <td>113803</td>\n",
       "      <td>53.1000</td>\n",
       "      <td>C123</td>\n",
       "      <td>S</td>\n",
       "      <td>2</td>\n",
       "    </tr>\n",
       "    <tr>\n",
       "      <th>4</th>\n",
       "      <td>5</td>\n",
       "      <td>0</td>\n",
       "      <td>3</td>\n",
       "      <td>Allen, Mr. William Henry</td>\n",
       "      <td>male</td>\n",
       "      <td>35.0</td>\n",
       "      <td>0</td>\n",
       "      <td>0</td>\n",
       "      <td>373450</td>\n",
       "      <td>8.0500</td>\n",
       "      <td>NaN</td>\n",
       "      <td>S</td>\n",
       "      <td>4</td>\n",
       "    </tr>\n",
       "  </tbody>\n",
       "</table>\n",
       "</div>"
      ],
      "text/plain": [
       "   passenger_id  survived  passenger_class  \\\n",
       "0             1         0                3   \n",
       "1             2         1                1   \n",
       "2             3         1                3   \n",
       "3             4         1                1   \n",
       "4             5         0                3   \n",
       "\n",
       "                                                name     sex   age  \\\n",
       "0                            Braund, Mr. Owen Harris    male  22.0   \n",
       "1  Cumings, Mrs. John Bradley (Florence Briggs Th...  female  38.0   \n",
       "2                             Heikkinen, Miss. Laina  female  26.0   \n",
       "3       Futrelle, Mrs. Jacques Heath (Lily May Peel)  female  35.0   \n",
       "4                           Allen, Mr. William Henry    male  35.0   \n",
       "\n",
       "   sibling_spouse  parent_children            ticket     fare cabin embarked  \\\n",
       "0               1                0         A/5 21171   7.2500   NaN        S   \n",
       "1               1                0          PC 17599  71.2833   C85        C   \n",
       "2               0                0  STON/O2. 3101282   7.9250   NaN        S   \n",
       "3               1                0            113803  53.1000  C123        S   \n",
       "4               0                0            373450   8.0500   NaN        S   \n",
       "\n",
       "  salutation  \n",
       "0          4  \n",
       "1          2  \n",
       "2          3  \n",
       "3          2  \n",
       "4          4  "
      ]
     },
     "execution_count": 177,
     "metadata": {},
     "output_type": "execute_result"
    }
   ],
   "source": [
    "train_df.head()"
   ]
  },
  {
   "cell_type": "code",
   "execution_count": 178,
   "id": "db8c5c7b",
   "metadata": {},
   "outputs": [],
   "source": [
    "train_df.salutation = train_df.salutation.astype('float64')"
   ]
  },
  {
   "cell_type": "code",
   "execution_count": 179,
   "id": "35382732",
   "metadata": {},
   "outputs": [],
   "source": [
    "# Creating a Group based on Sex, Passenger, Salutation\n",
    "age_group = train_df.groupby([\"sex\",\"passenger_class\",\"salutation\"])[\"age\"]"
   ]
  },
  {
   "cell_type": "code",
   "execution_count": 180,
   "id": "d3ae78f2",
   "metadata": {},
   "outputs": [
    {
     "data": {
      "text/plain": [
       "sex     passenger_class  salutation\n",
       "female  1                0.0           49.0\n",
       "                         1.0           40.5\n",
       "                         2.0           40.0\n",
       "                         3.0           30.0\n",
       "        2                2.0           31.5\n",
       "                         3.0           24.0\n",
       "        3                2.0           31.0\n",
       "                         3.0           18.0\n",
       "male    1                0.0           51.0\n",
       "                         1.0           40.0\n",
       "                         4.0           40.0\n",
       "                         5.0            4.0\n",
       "        2                0.0           46.5\n",
       "                         4.0           31.0\n",
       "                         5.0            1.0\n",
       "        3                4.0           26.0\n",
       "                         5.0            4.0\n",
       "Name: age, dtype: float64"
      ]
     },
     "execution_count": 180,
     "metadata": {},
     "output_type": "execute_result"
    }
   ],
   "source": [
    "# Median of each grop\n",
    "age_group.median()"
   ]
  },
  {
   "cell_type": "code",
   "execution_count": 181,
   "id": "72895532",
   "metadata": {},
   "outputs": [
    {
     "data": {
      "text/plain": [
       "0      26.0\n",
       "1      40.0\n",
       "2      18.0\n",
       "3      40.0\n",
       "4      26.0\n",
       "       ... \n",
       "886    46.5\n",
       "887    30.0\n",
       "888    18.0\n",
       "889    40.0\n",
       "890    26.0\n",
       "Name: age, Length: 891, dtype: float64"
      ]
     },
     "execution_count": 181,
     "metadata": {},
     "output_type": "execute_result"
    }
   ],
   "source": [
    "age_group.transform('median')"
   ]
  },
  {
   "cell_type": "code",
   "execution_count": 182,
   "id": "79efe048",
   "metadata": {},
   "outputs": [
    {
     "data": {
      "text/plain": [
       "5     NaN\n",
       "17    NaN\n",
       "19    NaN\n",
       "26    NaN\n",
       "28    NaN\n",
       "       ..\n",
       "859   NaN\n",
       "863   NaN\n",
       "868   NaN\n",
       "878   NaN\n",
       "888   NaN\n",
       "Name: age, Length: 177, dtype: float64"
      ]
     },
     "execution_count": 182,
     "metadata": {},
     "output_type": "execute_result"
    }
   ],
   "source": [
    "train_df.loc[train_df.age.isnull(), 'age']"
   ]
  },
  {
   "cell_type": "code",
   "execution_count": 183,
   "id": "a0d0478f",
   "metadata": {},
   "outputs": [],
   "source": [
    "# Applying the Dataframe with the median\n",
    "train_df.loc[train_df.age.isnull(), 'age'] = age_group.transform('median')"
   ]
  },
  {
   "cell_type": "code",
   "execution_count": 184,
   "id": "befb0e57",
   "metadata": {},
   "outputs": [
    {
     "data": {
      "text/plain": [
       "0"
      ]
     },
     "execution_count": 184,
     "metadata": {},
     "output_type": "execute_result"
    }
   ],
   "source": [
    "train_df.age.isnull().sum()"
   ]
  },
  {
   "cell_type": "markdown",
   "id": "83ba408a",
   "metadata": {},
   "source": [
    "## So now we have filled the missing values for Age"
   ]
  },
  {
   "cell_type": "markdown",
   "id": "48f44f79",
   "metadata": {},
   "source": [
    "### Missing Values: \n",
    "- [X] Age\n",
    "- [ ] Embarked\n",
    "- [ ] Cabin\n"
   ]
  },
  {
   "cell_type": "markdown",
   "id": "bf39480c",
   "metadata": {},
   "source": [
    "# Visualization of Age"
   ]
  },
  {
   "cell_type": "code",
   "execution_count": 185,
   "id": "7751ad06",
   "metadata": {},
   "outputs": [
    {
     "data": {
      "text/plain": [
       "0.42     1\n",
       "0.67     1\n",
       "0.75     2\n",
       "0.83     2\n",
       "0.92     1\n",
       "        ..\n",
       "70.00    2\n",
       "70.50    1\n",
       "71.00    2\n",
       "74.00    1\n",
       "80.00    1\n",
       "Name: age, Length: 88, dtype: int64"
      ]
     },
     "execution_count": 185,
     "metadata": {},
     "output_type": "execute_result"
    }
   ],
   "source": [
    "train_df.age.value_counts().sort_index()"
   ]
  },
  {
   "cell_type": "markdown",
   "id": "60673b30",
   "metadata": {},
   "source": [
    "### Age by Counts"
   ]
  },
  {
   "cell_type": "code",
   "execution_count": 186,
   "id": "28eb5d38",
   "metadata": {},
   "outputs": [
    {
     "data": {
      "text/plain": [
       "<AxesSubplot:>"
      ]
     },
     "execution_count": 186,
     "metadata": {},
     "output_type": "execute_result"
    },
    {
     "data": {
      "image/png": "[encoded data removed]",
      "text/plain": [
       "<Figure size 432x288 with 1 Axes>"
      ]
     },
     "metadata": {},
     "output_type": "display_data"
    }
   ],
   "source": [
    "\n",
    "train_df.age.value_counts().sort_index().plot()"
   ]
  },
  {
   "cell_type": "markdown",
   "id": "08dd95f3",
   "metadata": {},
   "source": [
    "### Distribution of Age"
   ]
  },
  {
   "cell_type": "code",
   "execution_count": 187,
   "id": "99f016b8",
   "metadata": {},
   "outputs": [
    {
     "data": {
      "image/png": "[encoded data removed]",
      "text/plain": [
       "<Figure size 864x360 with 1 Axes>"
      ]
     },
     "metadata": {},
     "output_type": "display_data"
    }
   ],
   "source": [
    "plt.figure(figsize=(12,5))\n",
    "sns.histplot(x='age', data=train_df)\n",
    "plt.title(\"Distribuition and density by Age\")\n",
    "plt.xlabel(\"Age\")\n",
    "plt.show()"
   ]
  },
  {
   "cell_type": "code",
   "execution_count": 188,
   "id": "888fef35",
   "metadata": {},
   "outputs": [
    {
     "name": "stderr",
     "output_type": "stream",
     "text": [
      "/home/iamsyedjafer/.local/lib/python3.8/site-packages/seaborn/distributions.py:2619: FutureWarning: `distplot` is a deprecated function and will be removed in a future version. Please adapt your code to use either `displot` (a figure-level function with similar flexibility) or `histplot` (an axes-level function for histograms).\n",
      "  warnings.warn(msg, FutureWarning)\n"
     ]
    },
    {
     "data": {
      "image/png": "[encoded data removed]",
      "text/plain": [
       "<Figure size 864x360 with 1 Axes>"
      ]
     },
     "metadata": {},
     "output_type": "display_data"
    }
   ],
   "source": [
    "plt.figure(figsize=(12,5))\n",
    "sns.distplot(x=train_df.age, bins=25)\n",
    "plt.title(\"Distribuition and density by Age\")\n",
    "plt.xlabel(\"Age\")\n",
    "plt.show()"
   ]
  },
  {
   "cell_type": "markdown",
   "id": "ce8f9ebd",
   "metadata": {},
   "source": [
    "### Comparison with survived"
   ]
  },
  {
   "cell_type": "code",
   "execution_count": 189,
   "id": "211367e4",
   "metadata": {},
   "outputs": [
    {
     "name": "stderr",
     "output_type": "stream",
     "text": [
      "/home/iamsyedjafer/.local/lib/python3.8/site-packages/seaborn/axisgrid.py:337: UserWarning: The `size` parameter has been renamed to `height`; please update your code.\n",
      "  warnings.warn(msg, UserWarning)\n",
      "/home/iamsyedjafer/.local/lib/python3.8/site-packages/seaborn/distributions.py:2619: FutureWarning: `distplot` is a deprecated function and will be removed in a future version. Please adapt your code to use either `displot` (a figure-level function with similar flexibility) or `histplot` (an axes-level function for histograms).\n",
      "  warnings.warn(msg, FutureWarning)\n",
      "/home/iamsyedjafer/.local/lib/python3.8/site-packages/seaborn/distributions.py:2619: FutureWarning: `distplot` is a deprecated function and will be removed in a future version. Please adapt your code to use either `displot` (a figure-level function with similar flexibility) or `histplot` (an axes-level function for histograms).\n",
      "  warnings.warn(msg, FutureWarning)\n"
     ]
    },
    {
     "data": {
      "text/plain": [
       "<Figure size 864x360 with 0 Axes>"
      ]
     },
     "metadata": {},
     "output_type": "display_data"
    },
    {
     "data": {
      "image/png": "[encoded data removed]",
      "text/plain": [
       "<Figure size 720x360 with 2 Axes>"
      ]
     },
     "metadata": {},
     "output_type": "display_data"
    }
   ],
   "source": [
    "plt.figure(figsize=(12,5))\n",
    "g = sns.FacetGrid(train_df, col='survived',size=5)\n",
    "g = g.map(sns.distplot, \"age\")\n",
    "plt.show()"
   ]
  },
  {
   "cell_type": "markdown",
   "id": "79db2a8a",
   "metadata": {},
   "source": [
    "* From the above graph, we are able to know that people of age between 18 to 40, are having higher rates of surviving"
   ]
  },
  {
   "cell_type": "code",
   "execution_count": 190,
   "id": "58f2fd12",
   "metadata": {},
   "outputs": [],
   "source": [
    "age_survived = train_df[train_df.survived == 1].age.value_counts().sort_index()\n",
    "age_not_survived = train_df[train_df.survived == 0].age.value_counts().sort_index()"
   ]
  },
  {
   "cell_type": "code",
   "execution_count": 191,
   "id": "f081f283",
   "metadata": {},
   "outputs": [
    {
     "data": {
      "image/png": "[encoded data removed]",
      "text/plain": [
       "<Figure size 864x360 with 1 Axes>"
      ]
     },
     "metadata": {},
     "output_type": "display_data"
    }
   ],
   "source": [
    "plt.figure(figsize=(12,5))\n",
    "plt.plot(age_survived.index, age_survived.values, color='#8f3a84', linestyle='solid', label=\"survived\", linewidth=2)\n",
    "plt.plot(age_not_survived.index, age_not_survived.values, color='#EC7063', linestyle='solid', label=\"not survived\", linewidth=2)\n",
    "plt.xlabel(\"Age\")\n",
    "plt.ylabel(\"People\")\n",
    "plt.legend()\n",
    "plt.title(\"Survived vs Not-Survived\")\n",
    "plt.show()"
   ]
  },
  {
   "cell_type": "markdown",
   "id": "f1b68656",
   "metadata": {},
   "source": [
    "We can create a new column, age_category, so that we can use the feature that people with age between 18 to 40 to a class"
   ]
  },
  {
   "cell_type": "code",
   "execution_count": 192,
   "id": "de36941a",
   "metadata": {},
   "outputs": [
    {
     "data": {
      "text/plain": [
       "0    1\n",
       "1    1\n",
       "2    1\n",
       "3    1\n",
       "4    1\n",
       "Name: age_catg, dtype: category\n",
       "Categories (3, int64): [0 < 1 < 2]"
      ]
     },
     "execution_count": 192,
     "metadata": {},
     "output_type": "execute_result"
    }
   ],
   "source": [
    "interval = (0, 15, 43, 150) \n",
    "cats = [0, 1, 2]\n",
    "\n",
    "# Applying the pd.cut and using the parameters that we created \n",
    "train_df[\"age_catg\"] = pd.cut(train_df.age, interval, labels=cats)\n",
    "\n",
    "# Printing the new Category\n",
    "train_df[\"age_catg\"].head()"
   ]
  },
  {
   "cell_type": "code",
   "execution_count": 193,
   "id": "e7406508",
   "metadata": {},
   "outputs": [
    {
     "data": {
      "text/html": [
       "<div>\n",
       "<style scoped>\n",
       "    .dataframe tbody tr th:only-of-type {\n",
       "        vertical-align: middle;\n",
       "    }\n",
       "\n",
       "    .dataframe tbody tr th {\n",
       "        vertical-align: top;\n",
       "    }\n",
       "\n",
       "    .dataframe thead th {\n",
       "        text-align: right;\n",
       "    }\n",
       "</style>\n",
       "<table border=\"1\" class=\"dataframe\">\n",
       "  <thead>\n",
       "    <tr style=\"text-align: right;\">\n",
       "      <th></th>\n",
       "      <th>age</th>\n",
       "      <th>age_catg</th>\n",
       "    </tr>\n",
       "  </thead>\n",
       "  <tbody>\n",
       "    <tr>\n",
       "      <th>0</th>\n",
       "      <td>22.0</td>\n",
       "      <td>1</td>\n",
       "    </tr>\n",
       "    <tr>\n",
       "      <th>1</th>\n",
       "      <td>38.0</td>\n",
       "      <td>1</td>\n",
       "    </tr>\n",
       "    <tr>\n",
       "      <th>2</th>\n",
       "      <td>26.0</td>\n",
       "      <td>1</td>\n",
       "    </tr>\n",
       "    <tr>\n",
       "      <th>3</th>\n",
       "      <td>35.0</td>\n",
       "      <td>1</td>\n",
       "    </tr>\n",
       "    <tr>\n",
       "      <th>4</th>\n",
       "      <td>35.0</td>\n",
       "      <td>1</td>\n",
       "    </tr>\n",
       "  </tbody>\n",
       "</table>\n",
       "</div>"
      ],
      "text/plain": [
       "    age age_catg\n",
       "0  22.0        1\n",
       "1  38.0        1\n",
       "2  26.0        1\n",
       "3  35.0        1\n",
       "4  35.0        1"
      ]
     },
     "execution_count": 193,
     "metadata": {},
     "output_type": "execute_result"
    }
   ],
   "source": [
    "train_df[['age','age_catg']].head()"
   ]
  },
  {
   "cell_type": "markdown",
   "id": "a33b2c9c",
   "metadata": {},
   "source": [
    "# Filling Missing values in Embarked Column\n"
   ]
  },
  {
   "cell_type": "code",
   "execution_count": 194,
   "id": "8dd4a193",
   "metadata": {},
   "outputs": [
    {
     "data": {
      "text/plain": [
       "S      644\n",
       "C      168\n",
       "Q       77\n",
       "NaN      2\n",
       "Name: embarked, dtype: int64"
      ]
     },
     "execution_count": 194,
     "metadata": {},
     "output_type": "execute_result"
    }
   ],
   "source": [
    "train_df.embarked.value_counts(dropna=False)"
   ]
  },
  {
   "cell_type": "markdown",
   "id": "75ed0cb6",
   "metadata": {},
   "source": [
    "### PIE Chart Distribution"
   ]
  },
  {
   "cell_type": "code",
   "execution_count": 195,
   "id": "69c0d72c",
   "metadata": {},
   "outputs": [
    {
     "data": {
      "text/plain": [
       "<matplotlib.legend.Legend at 0x7f0da1765940>"
      ]
     },
     "execution_count": 195,
     "metadata": {},
     "output_type": "execute_result"
    },
    {
     "data": {
      "image/png": "[encoded data removed]",
      "text/plain": [
       "<Figure size 576x576 with 1 Axes>"
      ]
     },
     "metadata": {},
     "output_type": "display_data"
    }
   ],
   "source": [
    "train_df.embarked.value_counts().plot(kind = 'pie', autopct='%1.1f%%', figsize=(8, 8)).legend()"
   ]
  },
  {
   "cell_type": "markdown",
   "id": "6e27866e",
   "metadata": {},
   "source": [
    "### Distribution Plot "
   ]
  },
  {
   "cell_type": "code",
   "execution_count": 196,
   "id": "3a2b7b7e",
   "metadata": {},
   "outputs": [
    {
     "data": {
      "image/png": "[encoded data removed]",
      "text/plain": [
       "<Figure size 360x360 with 1 Axes>"
      ]
     },
     "metadata": {},
     "output_type": "display_data"
    }
   ],
   "source": [
    "sns.displot(x=train_df.embarked)\n",
    "plt.title(\"Distribuition of embarked values\")\n",
    "plt.show()"
   ]
  },
  {
   "cell_type": "markdown",
   "id": "5020152e",
   "metadata": {},
   "source": [
    "### Since the embarked is a categorical values, we can apply mode. So here we will be filling 'S' for all nan"
   ]
  },
  {
   "cell_type": "code",
   "execution_count": 197,
   "id": "e836f747",
   "metadata": {},
   "outputs": [],
   "source": [
    "train_df.embarked.fillna(\"S\", inplace=True)"
   ]
  },
  {
   "cell_type": "markdown",
   "id": "b7756dfe",
   "metadata": {},
   "source": [
    "### Survival rate based on each embarkment"
   ]
  },
  {
   "cell_type": "code",
   "execution_count": 198,
   "id": "041630c0",
   "metadata": {},
   "outputs": [
    {
     "data": {
      "text/plain": [
       "<AxesSubplot:xlabel='embarked', ylabel='survived'>"
      ]
     },
     "execution_count": 198,
     "metadata": {},
     "output_type": "execute_result"
    },
    {
     "data": {
      "image/png": "[encoded data removed]",
      "text/plain": [
       "<Figure size 432x288 with 1 Axes>"
      ]
     },
     "metadata": {},
     "output_type": "display_data"
    }
   ],
   "source": [
    "sns.barplot(x='embarked', y='survived', data=train_df)"
   ]
  },
  {
   "cell_type": "markdown",
   "id": "8078fa68",
   "metadata": {},
   "source": [
    "from the above graph we can know that, people who are boarded in C were survived more"
   ]
  },
  {
   "cell_type": "markdown",
   "id": "dc048f82",
   "metadata": {},
   "source": [
    "### Missing Values: \n",
    "- [X] Age\n",
    "- [X] Embarked\n",
    "- [ ] Cabin\n"
   ]
  },
  {
   "cell_type": "markdown",
   "id": "fdeb11e9",
   "metadata": {},
   "source": [
    "# Filling Missing values in Cabin Column\n"
   ]
  },
  {
   "cell_type": "code",
   "execution_count": 199,
   "id": "e479a3df",
   "metadata": {},
   "outputs": [
    {
     "data": {
      "text/plain": [
       "687"
      ]
     },
     "execution_count": 199,
     "metadata": {},
     "output_type": "execute_result"
    }
   ],
   "source": [
    "train_df.cabin.isnull().sum()"
   ]
  },
  {
   "cell_type": "code",
   "execution_count": 200,
   "id": "bce9c12a",
   "metadata": {},
   "outputs": [
    {
     "data": {
      "text/plain": [
       "(891,)"
      ]
     },
     "execution_count": 200,
     "metadata": {},
     "output_type": "execute_result"
    }
   ],
   "source": [
    "train_df.cabin.shape"
   ]
  },
  {
   "cell_type": "markdown",
   "id": "28c80f75",
   "metadata": {},
   "source": [
    "We have more than 77% of data is missing, So we can ignore it. Or Else we can create a new column \"is_cabin_present\""
   ]
  },
  {
   "cell_type": "code",
   "execution_count": 201,
   "id": "435e257e",
   "metadata": {},
   "outputs": [],
   "source": [
    "train_df[\"is_cabin_present\"] = [1 if x == False else 0 for x in train_df.cabin.isnull()]"
   ]
  },
  {
   "cell_type": "code",
   "execution_count": 202,
   "id": "49c3a033",
   "metadata": {},
   "outputs": [
    {
     "data": {
      "text/html": [
       "<div>\n",
       "<style scoped>\n",
       "    .dataframe tbody tr th:only-of-type {\n",
       "        vertical-align: middle;\n",
       "    }\n",
       "\n",
       "    .dataframe tbody tr th {\n",
       "        vertical-align: top;\n",
       "    }\n",
       "\n",
       "    .dataframe thead th {\n",
       "        text-align: right;\n",
       "    }\n",
       "</style>\n",
       "<table border=\"1\" class=\"dataframe\">\n",
       "  <thead>\n",
       "    <tr style=\"text-align: right;\">\n",
       "      <th></th>\n",
       "      <th>is_cabin_present</th>\n",
       "      <th>survived</th>\n",
       "    </tr>\n",
       "  </thead>\n",
       "  <tbody>\n",
       "    <tr>\n",
       "      <th>0</th>\n",
       "      <td>0</td>\n",
       "      <td>0</td>\n",
       "    </tr>\n",
       "    <tr>\n",
       "      <th>1</th>\n",
       "      <td>1</td>\n",
       "      <td>1</td>\n",
       "    </tr>\n",
       "    <tr>\n",
       "      <th>2</th>\n",
       "      <td>0</td>\n",
       "      <td>1</td>\n",
       "    </tr>\n",
       "    <tr>\n",
       "      <th>3</th>\n",
       "      <td>1</td>\n",
       "      <td>1</td>\n",
       "    </tr>\n",
       "    <tr>\n",
       "      <th>4</th>\n",
       "      <td>0</td>\n",
       "      <td>0</td>\n",
       "    </tr>\n",
       "    <tr>\n",
       "      <th>...</th>\n",
       "      <td>...</td>\n",
       "      <td>...</td>\n",
       "    </tr>\n",
       "    <tr>\n",
       "      <th>886</th>\n",
       "      <td>0</td>\n",
       "      <td>0</td>\n",
       "    </tr>\n",
       "    <tr>\n",
       "      <th>887</th>\n",
       "      <td>1</td>\n",
       "      <td>1</td>\n",
       "    </tr>\n",
       "    <tr>\n",
       "      <th>888</th>\n",
       "      <td>0</td>\n",
       "      <td>0</td>\n",
       "    </tr>\n",
       "    <tr>\n",
       "      <th>889</th>\n",
       "      <td>1</td>\n",
       "      <td>1</td>\n",
       "    </tr>\n",
       "    <tr>\n",
       "      <th>890</th>\n",
       "      <td>0</td>\n",
       "      <td>0</td>\n",
       "    </tr>\n",
       "  </tbody>\n",
       "</table>\n",
       "<p>891 rows × 2 columns</p>\n",
       "</div>"
      ],
      "text/plain": [
       "     is_cabin_present  survived\n",
       "0                   0         0\n",
       "1                   1         1\n",
       "2                   0         1\n",
       "3                   1         1\n",
       "4                   0         0\n",
       "..                ...       ...\n",
       "886                 0         0\n",
       "887                 1         1\n",
       "888                 0         0\n",
       "889                 1         1\n",
       "890                 0         0\n",
       "\n",
       "[891 rows x 2 columns]"
      ]
     },
     "execution_count": 202,
     "metadata": {},
     "output_type": "execute_result"
    }
   ],
   "source": [
    "train_df[['is_cabin_present', 'survived']]"
   ]
  },
  {
   "cell_type": "code",
   "execution_count": 203,
   "id": "cdca14c4",
   "metadata": {},
   "outputs": [
    {
     "data": {
      "text/html": [
       "<div>\n",
       "<style scoped>\n",
       "    .dataframe tbody tr th:only-of-type {\n",
       "        vertical-align: middle;\n",
       "    }\n",
       "\n",
       "    .dataframe tbody tr th {\n",
       "        vertical-align: top;\n",
       "    }\n",
       "\n",
       "    .dataframe thead th {\n",
       "        text-align: right;\n",
       "    }\n",
       "</style>\n",
       "<table border=\"1\" class=\"dataframe\">\n",
       "  <thead>\n",
       "    <tr style=\"text-align: right;\">\n",
       "      <th></th>\n",
       "      <th>is_cabin_present</th>\n",
       "      <th>survived</th>\n",
       "    </tr>\n",
       "  </thead>\n",
       "  <tbody>\n",
       "    <tr>\n",
       "      <th>is_cabin_present</th>\n",
       "      <td>1.000000</td>\n",
       "      <td>0.316912</td>\n",
       "    </tr>\n",
       "    <tr>\n",
       "      <th>survived</th>\n",
       "      <td>0.316912</td>\n",
       "      <td>1.000000</td>\n",
       "    </tr>\n",
       "  </tbody>\n",
       "</table>\n",
       "</div>"
      ],
      "text/plain": [
       "                  is_cabin_present  survived\n",
       "is_cabin_present          1.000000  0.316912\n",
       "survived                  0.316912  1.000000"
      ]
     },
     "execution_count": 203,
     "metadata": {},
     "output_type": "execute_result"
    }
   ],
   "source": [
    "train_df[['is_cabin_present', 'survived']].corr()"
   ]
  },
  {
   "cell_type": "markdown",
   "id": "34ffd34a",
   "metadata": {},
   "source": [
    "This is having a good correlation, so we can have it to our data aswell"
   ]
  },
  {
   "cell_type": "markdown",
   "id": "24589b13",
   "metadata": {},
   "source": [
    "### Missing Values: \n",
    "- [X] Age\n",
    "- [X] Embarked\n",
    "- [X] Cabin\n",
    "\n",
    "\n",
    "All Missing Values are rectified"
   ]
  },
  {
   "cell_type": "markdown",
   "id": "4bd6dbd4",
   "metadata": {},
   "source": [
    "# Data Visualization"
   ]
  },
  {
   "cell_type": "markdown",
   "id": "d7edb689",
   "metadata": {},
   "source": [
    "### Frequency distribution of Sex"
   ]
  },
  {
   "cell_type": "code",
   "execution_count": 204,
   "id": "963d2b12",
   "metadata": {},
   "outputs": [
    {
     "data": {
      "text/plain": [
       "<AxesSubplot:ylabel='sex'>"
      ]
     },
     "execution_count": 204,
     "metadata": {},
     "output_type": "execute_result"
    },
    {
     "data": {
      "image/png": "[encoded data removed]",
      "text/plain": [
       "<Figure size 432x288 with 1 Axes>"
      ]
     },
     "metadata": {},
     "output_type": "display_data"
    }
   ],
   "source": [
    "train_df.sex.value_counts().plot(kind='pie')"
   ]
  },
  {
   "cell_type": "code",
   "execution_count": 205,
   "id": "0fb4edcb",
   "metadata": {},
   "outputs": [
    {
     "data": {
      "text/plain": [
       "<AxesSubplot:>"
      ]
     },
     "execution_count": 205,
     "metadata": {},
     "output_type": "execute_result"
    },
    {
     "data": {
      "image/png": "[encoded data removed]",
      "text/plain": [
       "<Figure size 432x288 with 1 Axes>"
      ]
     },
     "metadata": {},
     "output_type": "display_data"
    }
   ],
   "source": [
    "train_df.sex.value_counts().plot(kind='bar')"
   ]
  },
  {
   "cell_type": "code",
   "execution_count": 206,
   "id": "a12eec6b",
   "metadata": {},
   "outputs": [
    {
     "name": "stderr",
     "output_type": "stream",
     "text": [
      "/home/iamsyedjafer/.local/lib/python3.8/site-packages/seaborn/_decorators.py:36: FutureWarning: Pass the following variable as a keyword arg: x. From version 0.12, the only valid positional argument will be `data`, and passing other arguments without an explicit keyword will result in an error or misinterpretation.\n",
      "  warnings.warn(\n"
     ]
    },
    {
     "data": {
      "text/plain": [
       "Text(0.5, 1.0, 'Sex Distribution ')"
      ]
     },
     "execution_count": 206,
     "metadata": {},
     "output_type": "execute_result"
    },
    {
     "data": {
      "image/png": "[encoded data removed]",
      "text/plain": [
       "<Figure size 864x360 with 1 Axes>"
      ]
     },
     "metadata": {},
     "output_type": "display_data"
    }
   ],
   "source": [
    "plt.figure(figsize=(12,5))\n",
    "sns.countplot(\"sex\", data=train_df, hue=\"survived\", palette=\"hls\")\n",
    "plt.ylabel(\"Count\", fontsize=18)\n",
    "plt.xlabel(\"Sex\", fontsize=18)\n",
    "plt.title(\"Sex Distribution \", fontsize=20)"
   ]
  },
  {
   "cell_type": "code",
   "execution_count": 207,
   "id": "bc288e45",
   "metadata": {},
   "outputs": [
    {
     "data": {
      "text/html": [
       "<div>\n",
       "<style scoped>\n",
       "    .dataframe tbody tr th:only-of-type {\n",
       "        vertical-align: middle;\n",
       "    }\n",
       "\n",
       "    .dataframe tbody tr th {\n",
       "        vertical-align: top;\n",
       "    }\n",
       "\n",
       "    .dataframe thead th {\n",
       "        text-align: right;\n",
       "    }\n",
       "</style>\n",
       "<table border=\"1\" class=\"dataframe\">\n",
       "  <thead>\n",
       "    <tr style=\"text-align: right;\">\n",
       "      <th></th>\n",
       "      <th>sex</th>\n",
       "      <th>survived</th>\n",
       "    </tr>\n",
       "  </thead>\n",
       "  <tbody>\n",
       "    <tr>\n",
       "      <th>0</th>\n",
       "      <td>female</td>\n",
       "      <td>0.742038</td>\n",
       "    </tr>\n",
       "    <tr>\n",
       "      <th>1</th>\n",
       "      <td>male</td>\n",
       "      <td>0.188908</td>\n",
       "    </tr>\n",
       "  </tbody>\n",
       "</table>\n",
       "</div>"
      ],
      "text/plain": [
       "      sex  survived\n",
       "0  female  0.742038\n",
       "1    male  0.188908"
      ]
     },
     "execution_count": 207,
     "metadata": {},
     "output_type": "execute_result"
    }
   ],
   "source": [
    "train_df[['sex', 'survived']].groupby(['sex'], as_index=False).mean().sort_values(by='survived', ascending=False)"
   ]
  },
  {
   "cell_type": "markdown",
   "id": "f40f49d1",
   "metadata": {},
   "source": [
    "#### From the above plot, we can get to know that females are more survived than males"
   ]
  },
  {
   "cell_type": "code",
   "execution_count": 208,
   "id": "ee0abbfa",
   "metadata": {},
   "outputs": [
    {
     "data": {
      "text/plain": [
       "Index(['passenger_id', 'survived', 'passenger_class', 'name', 'sex', 'age',\n",
       "       'sibling_spouse', 'parent_children', 'ticket', 'fare', 'cabin',\n",
       "       'embarked', 'salutation', 'age_catg', 'is_cabin_present'],\n",
       "      dtype='object')"
      ]
     },
     "execution_count": 208,
     "metadata": {},
     "output_type": "execute_result"
    }
   ],
   "source": [
    "train_df.columns"
   ]
  },
  {
   "cell_type": "markdown",
   "id": "916c76f3",
   "metadata": {},
   "source": [
    "### Frequency distribution of Passenger Class"
   ]
  },
  {
   "cell_type": "code",
   "execution_count": 209,
   "id": "7262c1f6",
   "metadata": {},
   "outputs": [
    {
     "data": {
      "text/plain": [
       "<AxesSubplot:ylabel='passenger_class'>"
      ]
     },
     "execution_count": 209,
     "metadata": {},
     "output_type": "execute_result"
    },
    {
     "data": {
      "image/png": "[encoded data removed]",
      "text/plain": [
       "<Figure size 432x288 with 1 Axes>"
      ]
     },
     "metadata": {},
     "output_type": "display_data"
    }
   ],
   "source": [
    "train_df.passenger_class.value_counts().plot(kind='pie')"
   ]
  },
  {
   "cell_type": "code",
   "execution_count": 210,
   "id": "4d240ec0",
   "metadata": {},
   "outputs": [
    {
     "data": {
      "text/plain": [
       "<AxesSubplot:>"
      ]
     },
     "execution_count": 210,
     "metadata": {},
     "output_type": "execute_result"
    },
    {
     "data": {
      "image/png": "[encoded data removed]",
      "text/plain": [
       "<Figure size 432x288 with 1 Axes>"
      ]
     },
     "metadata": {},
     "output_type": "display_data"
    }
   ],
   "source": [
    "train_df.passenger_class.value_counts().plot(kind='bar')"
   ]
  },
  {
   "cell_type": "code",
   "execution_count": 211,
   "id": "47b5de67",
   "metadata": {},
   "outputs": [
    {
     "name": "stderr",
     "output_type": "stream",
     "text": [
      "/home/iamsyedjafer/.local/lib/python3.8/site-packages/seaborn/_decorators.py:36: FutureWarning: Pass the following variable as a keyword arg: x. From version 0.12, the only valid positional argument will be `data`, and passing other arguments without an explicit keyword will result in an error or misinterpretation.\n",
      "  warnings.warn(\n"
     ]
    },
    {
     "data": {
      "text/plain": [
       "Text(0.5, 1.0, 'P Class Distribution ')"
      ]
     },
     "execution_count": 211,
     "metadata": {},
     "output_type": "execute_result"
    },
    {
     "data": {
      "image/png": "[encoded data removed]",
      "text/plain": [
       "<Figure size 864x360 with 1 Axes>"
      ]
     },
     "metadata": {},
     "output_type": "display_data"
    }
   ],
   "source": [
    "plt.figure(figsize=(12,5))\n",
    "sns.countplot(\"passenger_class\", data=train_df, hue=\"survived\", palette=\"hls\")\n",
    "plt.ylabel(\"Count\", fontsize=18)\n",
    "plt.xlabel(\"P Class\", fontsize=18)\n",
    "plt.title(\"P Class Distribution \", fontsize=20)"
   ]
  },
  {
   "cell_type": "code",
   "execution_count": 212,
   "id": "3e926922",
   "metadata": {},
   "outputs": [
    {
     "data": {
      "text/html": [
       "<div>\n",
       "<style scoped>\n",
       "    .dataframe tbody tr th:only-of-type {\n",
       "        vertical-align: middle;\n",
       "    }\n",
       "\n",
       "    .dataframe tbody tr th {\n",
       "        vertical-align: top;\n",
       "    }\n",
       "\n",
       "    .dataframe thead th {\n",
       "        text-align: right;\n",
       "    }\n",
       "</style>\n",
       "<table border=\"1\" class=\"dataframe\">\n",
       "  <thead>\n",
       "    <tr style=\"text-align: right;\">\n",
       "      <th></th>\n",
       "      <th>passenger_class</th>\n",
       "      <th>survived</th>\n",
       "    </tr>\n",
       "  </thead>\n",
       "  <tbody>\n",
       "    <tr>\n",
       "      <th>0</th>\n",
       "      <td>1</td>\n",
       "      <td>0.629630</td>\n",
       "    </tr>\n",
       "    <tr>\n",
       "      <th>1</th>\n",
       "      <td>2</td>\n",
       "      <td>0.472826</td>\n",
       "    </tr>\n",
       "    <tr>\n",
       "      <th>2</th>\n",
       "      <td>3</td>\n",
       "      <td>0.242363</td>\n",
       "    </tr>\n",
       "  </tbody>\n",
       "</table>\n",
       "</div>"
      ],
      "text/plain": [
       "   passenger_class  survived\n",
       "0                1  0.629630\n",
       "1                2  0.472826\n",
       "2                3  0.242363"
      ]
     },
     "execution_count": 212,
     "metadata": {},
     "output_type": "execute_result"
    }
   ],
   "source": [
    "train_df[['passenger_class', 'survived']].groupby(['passenger_class'], as_index=False).mean().sort_values(by='survived', ascending=False)"
   ]
  },
  {
   "cell_type": "markdown",
   "id": "6d982788",
   "metadata": {},
   "source": [
    "#### From the above plot, we are able to identify that people in class 3, 2 are survived more than people in class 1"
   ]
  },
  {
   "cell_type": "markdown",
   "id": "3777fe1b",
   "metadata": {},
   "source": [
    "### Frequency Distribution of sibling_spouse and parent_children"
   ]
  },
  {
   "cell_type": "code",
   "execution_count": 213,
   "id": "a268abf1",
   "metadata": {},
   "outputs": [
    {
     "data": {
      "text/html": [
       "<div>\n",
       "<style scoped>\n",
       "    .dataframe tbody tr th:only-of-type {\n",
       "        vertical-align: middle;\n",
       "    }\n",
       "\n",
       "    .dataframe tbody tr th {\n",
       "        vertical-align: top;\n",
       "    }\n",
       "\n",
       "    .dataframe thead th {\n",
       "        text-align: right;\n",
       "    }\n",
       "</style>\n",
       "<table border=\"1\" class=\"dataframe\">\n",
       "  <thead>\n",
       "    <tr style=\"text-align: right;\">\n",
       "      <th></th>\n",
       "      <th>sibling_spouse</th>\n",
       "      <th>parent_children</th>\n",
       "      <th>survived</th>\n",
       "    </tr>\n",
       "  </thead>\n",
       "  <tbody>\n",
       "    <tr>\n",
       "      <th>0</th>\n",
       "      <td>1</td>\n",
       "      <td>0</td>\n",
       "      <td>0</td>\n",
       "    </tr>\n",
       "    <tr>\n",
       "      <th>1</th>\n",
       "      <td>1</td>\n",
       "      <td>0</td>\n",
       "      <td>1</td>\n",
       "    </tr>\n",
       "    <tr>\n",
       "      <th>2</th>\n",
       "      <td>0</td>\n",
       "      <td>0</td>\n",
       "      <td>1</td>\n",
       "    </tr>\n",
       "    <tr>\n",
       "      <th>3</th>\n",
       "      <td>1</td>\n",
       "      <td>0</td>\n",
       "      <td>1</td>\n",
       "    </tr>\n",
       "    <tr>\n",
       "      <th>4</th>\n",
       "      <td>0</td>\n",
       "      <td>0</td>\n",
       "      <td>0</td>\n",
       "    </tr>\n",
       "    <tr>\n",
       "      <th>...</th>\n",
       "      <td>...</td>\n",
       "      <td>...</td>\n",
       "      <td>...</td>\n",
       "    </tr>\n",
       "    <tr>\n",
       "      <th>886</th>\n",
       "      <td>0</td>\n",
       "      <td>0</td>\n",
       "      <td>0</td>\n",
       "    </tr>\n",
       "    <tr>\n",
       "      <th>887</th>\n",
       "      <td>0</td>\n",
       "      <td>0</td>\n",
       "      <td>1</td>\n",
       "    </tr>\n",
       "    <tr>\n",
       "      <th>888</th>\n",
       "      <td>1</td>\n",
       "      <td>2</td>\n",
       "      <td>0</td>\n",
       "    </tr>\n",
       "    <tr>\n",
       "      <th>889</th>\n",
       "      <td>0</td>\n",
       "      <td>0</td>\n",
       "      <td>1</td>\n",
       "    </tr>\n",
       "    <tr>\n",
       "      <th>890</th>\n",
       "      <td>0</td>\n",
       "      <td>0</td>\n",
       "      <td>0</td>\n",
       "    </tr>\n",
       "  </tbody>\n",
       "</table>\n",
       "<p>891 rows × 3 columns</p>\n",
       "</div>"
      ],
      "text/plain": [
       "     sibling_spouse  parent_children  survived\n",
       "0                 1                0         0\n",
       "1                 1                0         1\n",
       "2                 0                0         1\n",
       "3                 1                0         1\n",
       "4                 0                0         0\n",
       "..              ...              ...       ...\n",
       "886               0                0         0\n",
       "887               0                0         1\n",
       "888               1                2         0\n",
       "889               0                0         1\n",
       "890               0                0         0\n",
       "\n",
       "[891 rows x 3 columns]"
      ]
     },
     "execution_count": 213,
     "metadata": {},
     "output_type": "execute_result"
    }
   ],
   "source": [
    "train_df[['sibling_spouse', 'parent_children', 'survived']]"
   ]
  },
  {
   "cell_type": "code",
   "execution_count": 214,
   "id": "91469c55",
   "metadata": {},
   "outputs": [
    {
     "data": {
      "text/html": [
       "<div>\n",
       "<style scoped>\n",
       "    .dataframe tbody tr th:only-of-type {\n",
       "        vertical-align: middle;\n",
       "    }\n",
       "\n",
       "    .dataframe tbody tr th {\n",
       "        vertical-align: top;\n",
       "    }\n",
       "\n",
       "    .dataframe thead th {\n",
       "        text-align: right;\n",
       "    }\n",
       "</style>\n",
       "<table border=\"1\" class=\"dataframe\">\n",
       "  <thead>\n",
       "    <tr style=\"text-align: right;\">\n",
       "      <th></th>\n",
       "      <th>sibling_spouse</th>\n",
       "      <th>parent_children</th>\n",
       "      <th>survived</th>\n",
       "    </tr>\n",
       "  </thead>\n",
       "  <tbody>\n",
       "    <tr>\n",
       "      <th>sibling_spouse</th>\n",
       "      <td>1.000000</td>\n",
       "      <td>0.414838</td>\n",
       "      <td>-0.035322</td>\n",
       "    </tr>\n",
       "    <tr>\n",
       "      <th>parent_children</th>\n",
       "      <td>0.414838</td>\n",
       "      <td>1.000000</td>\n",
       "      <td>0.081629</td>\n",
       "    </tr>\n",
       "    <tr>\n",
       "      <th>survived</th>\n",
       "      <td>-0.035322</td>\n",
       "      <td>0.081629</td>\n",
       "      <td>1.000000</td>\n",
       "    </tr>\n",
       "  </tbody>\n",
       "</table>\n",
       "</div>"
      ],
      "text/plain": [
       "                 sibling_spouse  parent_children  survived\n",
       "sibling_spouse         1.000000         0.414838 -0.035322\n",
       "parent_children        0.414838         1.000000  0.081629\n",
       "survived              -0.035322         0.081629  1.000000"
      ]
     },
     "execution_count": 214,
     "metadata": {},
     "output_type": "execute_result"
    }
   ],
   "source": [
    "train_df[['sibling_spouse', 'parent_children', 'survived']].corr()"
   ]
  },
  {
   "cell_type": "markdown",
   "id": "49040a04",
   "metadata": {},
   "source": [
    "from the above correlation, we can know that parent_children and sibling_spouse is having high correlation. We can try to create a new column, like whether the person came alone or accompanied by someone"
   ]
  },
  {
   "cell_type": "code",
   "execution_count": 215,
   "id": "712773b6",
   "metadata": {},
   "outputs": [
    {
     "data": {
      "text/plain": [
       "array([1, 0, 3, 4, 2, 5, 8])"
      ]
     },
     "execution_count": 215,
     "metadata": {},
     "output_type": "execute_result"
    }
   ],
   "source": [
    "# Checking values of sibling_spouse - to confirm the domain of the values.\n",
    "train_df.sibling_spouse.unique()\n"
   ]
  },
  {
   "cell_type": "code",
   "execution_count": 216,
   "id": "0d374d7d",
   "metadata": {},
   "outputs": [
    {
     "data": {
      "text/plain": [
       "array([0, 1, 2, 5, 3, 4, 6])"
      ]
     },
     "execution_count": 216,
     "metadata": {},
     "output_type": "execute_result"
    }
   ],
   "source": [
    "# Checking values of parent_children - to confirm the domain of the values.\n",
    "train_df.parent_children.unique()\n"
   ]
  },
  {
   "cell_type": "code",
   "execution_count": 217,
   "id": "094346a4",
   "metadata": {},
   "outputs": [
    {
     "data": {
      "text/plain": [
       "Int64Index([  2,   4,   5,   6,  11,  12,  14,  15,  17,  19,\n",
       "            ...\n",
       "            877, 878, 881, 882, 883, 884, 886, 887, 889, 890],\n",
       "           dtype='int64', length=537)"
      ]
     },
     "execution_count": 217,
     "metadata": {},
     "output_type": "execute_result"
    }
   ],
   "source": [
    "train_df[(train_df.sibling_spouse == 0) & (train_df.parent_children == 0)].index"
   ]
  },
  {
   "cell_type": "code",
   "execution_count": 218,
   "id": "76cc8b9b",
   "metadata": {},
   "outputs": [],
   "source": [
    "alone_index = train_df[(train_df.sibling_spouse == 0) & (train_df.parent_children == 0)].index"
   ]
  },
  {
   "cell_type": "code",
   "execution_count": 219,
   "id": "1ae41ca7",
   "metadata": {},
   "outputs": [],
   "source": [
    "train_df[\"alone\"] = 1\n",
    "train_df.loc[alone_index, \"alone\"] = 0"
   ]
  },
  {
   "cell_type": "code",
   "execution_count": 220,
   "id": "b282ea57",
   "metadata": {},
   "outputs": [
    {
     "data": {
      "text/html": [
       "<div>\n",
       "<style scoped>\n",
       "    .dataframe tbody tr th:only-of-type {\n",
       "        vertical-align: middle;\n",
       "    }\n",
       "\n",
       "    .dataframe tbody tr th {\n",
       "        vertical-align: top;\n",
       "    }\n",
       "\n",
       "    .dataframe thead th {\n",
       "        text-align: right;\n",
       "    }\n",
       "</style>\n",
       "<table border=\"1\" class=\"dataframe\">\n",
       "  <thead>\n",
       "    <tr style=\"text-align: right;\">\n",
       "      <th></th>\n",
       "      <th>alone</th>\n",
       "      <th>survived</th>\n",
       "    </tr>\n",
       "  </thead>\n",
       "  <tbody>\n",
       "    <tr>\n",
       "      <th>alone</th>\n",
       "      <td>1.000000</td>\n",
       "      <td>0.203367</td>\n",
       "    </tr>\n",
       "    <tr>\n",
       "      <th>survived</th>\n",
       "      <td>0.203367</td>\n",
       "      <td>1.000000</td>\n",
       "    </tr>\n",
       "  </tbody>\n",
       "</table>\n",
       "</div>"
      ],
      "text/plain": [
       "             alone  survived\n",
       "alone     1.000000  0.203367\n",
       "survived  0.203367  1.000000"
      ]
     },
     "execution_count": 220,
     "metadata": {},
     "output_type": "execute_result"
    }
   ],
   "source": [
    "train_df[['alone','survived']].corr()"
   ]
  },
  {
   "cell_type": "markdown",
   "id": "3c724c86",
   "metadata": {},
   "source": [
    "from the above correlation, alone is having a good corelation with survival rate"
   ]
  },
  {
   "cell_type": "code",
   "execution_count": 221,
   "id": "35a159a2",
   "metadata": {},
   "outputs": [
    {
     "name": "stderr",
     "output_type": "stream",
     "text": [
      "/home/iamsyedjafer/.local/lib/python3.8/site-packages/seaborn/_decorators.py:36: FutureWarning: Pass the following variable as a keyword arg: x. From version 0.12, the only valid positional argument will be `data`, and passing other arguments without an explicit keyword will result in an error or misinterpretation.\n",
      "  warnings.warn(\n"
     ]
    },
    {
     "data": {
      "text/plain": [
       "Text(0.5, 1.0, 'Alone Distribution ')"
      ]
     },
     "execution_count": 221,
     "metadata": {},
     "output_type": "execute_result"
    },
    {
     "data": {
      "image/png": "[encoded data removed]",
      "text/plain": [
       "<Figure size 864x360 with 1 Axes>"
      ]
     },
     "metadata": {},
     "output_type": "display_data"
    }
   ],
   "source": [
    "plt.figure(figsize=(12,5))\n",
    "sns.countplot(\"alone\", data=train_df, hue=\"survived\", palette=\"hls\")\n",
    "plt.ylabel(\"Count\", fontsize=18)\n",
    "plt.xlabel(\"Alone\", fontsize=18)\n",
    "plt.title(\"Alone Distribution \", fontsize=20)"
   ]
  },
  {
   "cell_type": "markdown",
   "id": "fb8b0993",
   "metadata": {},
   "source": [
    "# Correlation of all features"
   ]
  },
  {
   "cell_type": "code",
   "execution_count": 222,
   "id": "be0228a7",
   "metadata": {},
   "outputs": [
    {
     "data": {
      "text/plain": [
       "Index(['passenger_id', 'survived', 'passenger_class', 'name', 'sex', 'age',\n",
       "       'sibling_spouse', 'parent_children', 'ticket', 'fare', 'cabin',\n",
       "       'embarked', 'salutation', 'age_catg', 'is_cabin_present', 'alone'],\n",
       "      dtype='object')"
      ]
     },
     "execution_count": 222,
     "metadata": {},
     "output_type": "execute_result"
    }
   ],
   "source": [
    "train_df.columns"
   ]
  },
  {
   "cell_type": "code",
   "execution_count": 223,
   "id": "19b82eb3",
   "metadata": {},
   "outputs": [],
   "source": [
    "from sklearn.preprocessing import LabelEncoder\n",
    "encoder = LabelEncoder()"
   ]
  },
  {
   "cell_type": "code",
   "execution_count": 224,
   "id": "6a0dc716",
   "metadata": {},
   "outputs": [],
   "source": [
    "train_df.embarked = encoder.fit_transform(train_df.embarked)\n",
    "train_df.salutation = encoder.fit_transform(train_df.salutation)\n",
    "train_df.age_catg = encoder.fit_transform(train_df.age_catg)\n",
    "train_df.sex = encoder.fit_transform(train_df.sex)"
   ]
  },
  {
   "cell_type": "code",
   "execution_count": 225,
   "id": "913f7047",
   "metadata": {},
   "outputs": [],
   "source": [
    "train_df.loc[ train_df['fare'] <= 7.91, 'fare'] = 0\n",
    "train_df.loc[(train_df['fare'] > 7.91) & (train_df['fare'] <= 14.454), 'fare'] = 1\n",
    "train_df.loc[(train_df['fare'] > 14.454) & (train_df['fare'] <= 31), 'fare']   = 2\n",
    "train_df.loc[ train_df['fare'] > 31, 'fare'] = 3\n",
    "train_df['fare'] = train_df['fare'].astype('float64')"
   ]
  },
  {
   "cell_type": "code",
   "execution_count": 226,
   "id": "96247f31",
   "metadata": {},
   "outputs": [
    {
     "data": {
      "text/plain": [
       "array([0., 3., 1., 2.])"
      ]
     },
     "execution_count": 226,
     "metadata": {},
     "output_type": "execute_result"
    }
   ],
   "source": [
    "train_df.fare.unique()"
   ]
  },
  {
   "cell_type": "code",
   "execution_count": 227,
   "id": "4d2f934d",
   "metadata": {},
   "outputs": [
    {
     "data": {
      "text/plain": [
       "<AxesSubplot:title={'center':'Pearson Correlation of Features'}>"
      ]
     },
     "execution_count": 227,
     "metadata": {},
     "output_type": "execute_result"
    },
    {
     "data": {
      "image/png": "[encoded data removed]",
      "text/plain": [
       "<Figure size 1008x864 with 2 Axes>"
      ]
     },
     "metadata": {},
     "output_type": "display_data"
    }
   ],
   "source": [
    "colormap = plt.cm.RdBu\n",
    "plt.figure(figsize=(14,12))\n",
    "plt.title('Pearson Correlation of Features', y=1.05, size=15)\n",
    "sns.heatmap(train_df.corr(),linewidths=0.1,vmax=1.0, \n",
    "            square=True, cmap=colormap, linecolor='white', annot=True)"
   ]
  },
  {
   "cell_type": "markdown",
   "id": "b151b83c",
   "metadata": {},
   "source": [
    "From the above correlation graph, we can choose items with higher correlation\n",
    "1. Alone\n",
    "2. Is Cabin Present\n",
    "3. age Catg\n",
    "4. embarked\n",
    "5. Fare\n",
    "6. sex"
   ]
  },
  {
   "cell_type": "code",
   "execution_count": 229,
   "id": "bca7b6ea",
   "metadata": {},
   "outputs": [],
   "source": [
    "X = train_df[['alone','is_cabin_present','age_catg','embarked','fare','sex']]"
   ]
  },
  {
   "cell_type": "code",
   "execution_count": 230,
   "id": "42778c83",
   "metadata": {},
   "outputs": [],
   "source": [
    "Y = train_df[\"survived\"]"
   ]
  },
  {
   "cell_type": "code",
   "execution_count": 231,
   "id": "7f4f9d9c",
   "metadata": {},
   "outputs": [],
   "source": [
    "from sklearn.model_selection import train_test_split\n",
    "from sklearn.metrics import accuracy_score"
   ]
  },
  {
   "cell_type": "code",
   "execution_count": 232,
   "id": "5599f6be",
   "metadata": {},
   "outputs": [],
   "source": [
    "X_train, X_test, Y_train, Y_test = train_test_split(X,Y, test_size=0.2, random_state=10)"
   ]
  },
  {
   "cell_type": "markdown",
   "id": "70967302",
   "metadata": {},
   "source": [
    "# Model Building"
   ]
  },
  {
   "cell_type": "code",
   "execution_count": 242,
   "id": "f5136b41",
   "metadata": {},
   "outputs": [
    {
     "name": "stdout",
     "output_type": "stream",
     "text": [
      "Collecting mlxtend\n",
      "  Downloading mlxtend-0.19.0-py2.py3-none-any.whl (1.3 MB)\n",
      "\u001b[K     |████████████████████████████████| 1.3 MB 2.5 MB/s eta 0:00:01\n",
      "\u001b[?25hRequirement already satisfied: numpy>=1.16.2 in /home/iamsyedjafer/.local/lib/python3.8/site-packages (from mlxtend) (1.19.5)\n",
      "Requirement already satisfied: pandas>=0.24.2 in /home/iamsyedjafer/.local/lib/python3.8/site-packages (from mlxtend) (1.3.3)\n",
      "Requirement already satisfied: joblib>=0.13.2 in /home/iamsyedjafer/.local/lib/python3.8/site-packages (from mlxtend) (1.1.0)\n",
      "Requirement already satisfied: scipy>=1.2.1 in /home/iamsyedjafer/.local/lib/python3.8/site-packages (from mlxtend) (1.7.1)\n",
      "Requirement already satisfied: scikit-learn>=0.20.3 in /home/iamsyedjafer/.local/lib/python3.8/site-packages (from mlxtend) (1.0)\n",
      "Requirement already satisfied: setuptools in /home/iamsyedjafer/.local/lib/python3.8/site-packages (from mlxtend) (58.2.0)\n",
      "Requirement already satisfied: matplotlib>=3.0.0 in /home/iamsyedjafer/.local/lib/python3.8/site-packages (from mlxtend) (3.4.3)\n",
      "Requirement already satisfied: python-dateutil>=2.7.3 in /home/iamsyedjafer/.local/lib/python3.8/site-packages (from pandas>=0.24.2->mlxtend) (2.8.2)\n",
      "Requirement already satisfied: pytz>=2017.3 in /usr/lib/python3/dist-packages (from pandas>=0.24.2->mlxtend) (2019.3)\n",
      "Requirement already satisfied: threadpoolctl>=2.0.0 in /home/iamsyedjafer/.local/lib/python3.8/site-packages (from scikit-learn>=0.20.3->mlxtend) (3.0.0)\n",
      "Requirement already satisfied: pillow>=6.2.0 in /usr/lib/python3/dist-packages (from matplotlib>=3.0.0->mlxtend) (7.0.0)\n",
      "Requirement already satisfied: kiwisolver>=1.0.1 in /home/iamsyedjafer/.local/lib/python3.8/site-packages (from matplotlib>=3.0.0->mlxtend) (1.3.2)\n",
      "Requirement already satisfied: cycler>=0.10 in /home/iamsyedjafer/.local/lib/python3.8/site-packages (from matplotlib>=3.0.0->mlxtend) (0.10.0)\n",
      "Requirement already satisfied: pyparsing>=2.2.1 in /home/iamsyedjafer/.local/lib/python3.8/site-packages (from matplotlib>=3.0.0->mlxtend) (2.4.7)\n",
      "Requirement already satisfied: six>=1.5 in /home/iamsyedjafer/.local/lib/python3.8/site-packages (from python-dateutil>=2.7.3->pandas>=0.24.2->mlxtend) (1.16.0)\n",
      "Installing collected packages: mlxtend\n",
      "Successfully installed mlxtend-0.19.0\n"
     ]
    }
   ],
   "source": [
    "!pip install mlxtend"
   ]
  },
  {
   "cell_type": "code",
   "execution_count": 243,
   "id": "d9b7918c",
   "metadata": {},
   "outputs": [],
   "source": [
    "from sklearn.model_selection import KFold\n",
    "from sklearn.metrics import confusion_matrix, classification_report\n",
    "from mlxtend.plotting import plot_confusion_matrix"
   ]
  },
  {
   "cell_type": "markdown",
   "id": "5db1a69c",
   "metadata": {},
   "source": [
    "## 1.0 Logistic Regression"
   ]
  },
  {
   "cell_type": "code",
   "execution_count": 235,
   "id": "fd0f25be",
   "metadata": {},
   "outputs": [
    {
     "name": "stdout",
     "output_type": "stream",
     "text": [
      "Accuracy score of training data :  0.7794943820224719\n",
      "Accuracy score of testing data :  0.8212290502793296\n"
     ]
    }
   ],
   "source": [
    "from sklearn.linear_model import LogisticRegression\n",
    "model = LogisticRegression()\n",
    "model.fit(X_train, Y_train)\n",
    "X_train_prediction = model.predict(X_train)\n",
    "X_test_prediction = model.predict(X_test)\n",
    "lr_training_data_accuracy = accuracy_score(Y_train, X_train_prediction)\n",
    "print('Accuracy score of training data : ', lr_training_data_accuracy)\n",
    "lr_testing_data_accuracy = accuracy_score(Y_test, X_test_prediction)\n",
    "print('Accuracy score of testing data : ', lr_testing_data_accuracy)"
   ]
  },
  {
   "cell_type": "markdown",
   "id": "4bdf1573",
   "metadata": {},
   "source": [
    "## 1.1 Logistic Regression with KFold"
   ]
  },
  {
   "cell_type": "code",
   "execution_count": 266,
   "id": "dd3270e5",
   "metadata": {},
   "outputs": [
    {
     "name": "stdout",
     "output_type": "stream",
     "text": [
      "KFold Split: 1 \n",
      "\n",
      "Accuracy of KFold  1 is:  0.8212290502793296 \n",
      "\n",
      "Classification Report of KFold  1  is following: \n",
      "\n",
      "              precision    recall  f1-score   support\n",
      "\n",
      "           0       0.89      0.83      0.86       120\n",
      "           1       0.70      0.80      0.75        59\n",
      "\n",
      "    accuracy                           0.82       179\n",
      "   macro avg       0.80      0.81      0.80       179\n",
      "weighted avg       0.83      0.82      0.82       179\n",
      "\n",
      "Confusion Matrix of KFold  1  is following:\n",
      "\n",
      "[[100  20]\n",
      " [ 12  47]]\n",
      "\n",
      "\n",
      "KFold Split: 2 \n",
      "\n",
      "Accuracy of KFold  2 is:  0.797752808988764 \n",
      "\n",
      "Classification Report of KFold  2  is following: \n",
      "\n",
      "              precision    recall  f1-score   support\n",
      "\n",
      "           0       0.81      0.83      0.82        99\n",
      "           1       0.78      0.76      0.77        79\n",
      "\n",
      "    accuracy                           0.80       178\n",
      "   macro avg       0.80      0.79      0.79       178\n",
      "weighted avg       0.80      0.80      0.80       178\n",
      "\n",
      "Confusion Matrix of KFold  2  is following:\n",
      "\n",
      "[[82 17]\n",
      " [19 60]]\n",
      "\n",
      "\n",
      "KFold Split: 3 \n",
      "\n",
      "Accuracy of KFold  3 is:  0.7471910112359551 \n",
      "\n",
      "Classification Report of KFold  3  is following: \n",
      "\n",
      "              precision    recall  f1-score   support\n",
      "\n",
      "           0       0.80      0.79      0.79       109\n",
      "           1       0.67      0.68      0.68        69\n",
      "\n",
      "    accuracy                           0.75       178\n",
      "   macro avg       0.73      0.74      0.73       178\n",
      "weighted avg       0.75      0.75      0.75       178\n",
      "\n",
      "Confusion Matrix of KFold  3  is following:\n",
      "\n",
      "[[86 23]\n",
      " [22 47]]\n",
      "\n",
      "\n",
      "KFold Split: 4 \n",
      "\n",
      "Accuracy of KFold  4 is:  0.7471910112359551 \n",
      "\n",
      "Classification Report of KFold  4  is following: \n",
      "\n",
      "              precision    recall  f1-score   support\n",
      "\n",
      "           0       0.76      0.84      0.80       106\n",
      "           1       0.72      0.61      0.66        72\n",
      "\n",
      "    accuracy                           0.75       178\n",
      "   macro avg       0.74      0.73      0.73       178\n",
      "weighted avg       0.74      0.75      0.74       178\n",
      "\n",
      "Confusion Matrix of KFold  4  is following:\n",
      "\n",
      "[[89 17]\n",
      " [28 44]]\n",
      "\n",
      "\n",
      "KFold Split: 5 \n",
      "\n",
      "Accuracy of KFold  5 is:  0.8146067415730337 \n",
      "\n",
      "Classification Report of KFold  5  is following: \n",
      "\n",
      "              precision    recall  f1-score   support\n",
      "\n",
      "           0       0.85      0.86      0.86       115\n",
      "           1       0.74      0.73      0.74        63\n",
      "\n",
      "    accuracy                           0.81       178\n",
      "   macro avg       0.80      0.80      0.80       178\n",
      "weighted avg       0.81      0.81      0.81       178\n",
      "\n",
      "Confusion Matrix of KFold  5  is following:\n",
      "\n",
      "[[99 16]\n",
      " [17 46]]\n",
      "\n",
      "\n",
      "\n",
      "\n",
      "Average Confusion Matrix\n",
      "      0     1\n",
      "0  92.0  19.0\n",
      "1  20.0  49.0\n",
      "Total Average Accuracy of Linear Regression Classifier is : 0.7855941246626075\n"
     ]
    }
   ],
   "source": [
    "model = LogisticRegression()\n",
    "kf = KFold(n_splits=5)\n",
    "results_lr = []\n",
    "fold = 0\n",
    "i=0\n",
    "conf_matrix_lists = []\n",
    "for train_index, test_index in kf.split(X,Y):\n",
    "    i=i+1\n",
    "    print(\"KFold Split:\",i,'\\n')\n",
    "    fold += 1\n",
    "    Xtrain, Xtest = X.iloc[train_index], X.iloc[test_index]\n",
    "    ytrain, ytest = Y.iloc[train_index], Y.iloc[test_index]\n",
    "    model.fit(Xtrain, ytrain)\n",
    "    predictions = model.predict(Xtest)\n",
    "    accuracy = accuracy_score(ytest, predictions)\n",
    "    results_lr.append(accuracy)\n",
    "    print(\"Accuracy of KFold \",i, \"is: \",accuracy, '\\n')\n",
    "    print(\"Classification Report of KFold \",i,\" is following:\", '\\n')\n",
    "    print(classification_report(ytest, predictions))\n",
    "    print(\"Confusion Matrix of KFold \",i,\" is following:\\n\")\n",
    "    _conf_mat=confusion_matrix(ytest, predictions)\n",
    "    conf_matrix_lists.append(_conf_mat)\n",
    "    print(_conf_mat)\n",
    "    print('\\n')\n",
    "\n",
    "print('\\n')\n",
    "print('Average Confusion Matrix')\n",
    "_mean_of_conf_mat = np.mean(conf_matrix_lists, axis=0)\n",
    "\n",
    "_mean_of_conf_mat = np.ceil(_mean_of_conf_mat)\n",
    "\n",
    "conf_df=pd.DataFrame(_mean_of_conf_mat)\n",
    "labels =['Not Survived','Survived']\n",
    "print(conf_df)\n",
    "\n",
    "mean_result_lr = np.mean(results_lr)\n",
    "print(\"Total Average Accuracy of Linear Regression Classifier is : {0}\".format(mean_result_lr)) "
   ]
  },
  {
   "cell_type": "markdown",
   "id": "9f056bc5",
   "metadata": {},
   "source": [
    "# 2.0 Random Forest Classifier"
   ]
  },
  {
   "cell_type": "code",
   "execution_count": 252,
   "id": "3c633595",
   "metadata": {},
   "outputs": [
    {
     "name": "stdout",
     "output_type": "stream",
     "text": [
      "Accuracy score of training data :  0.7808988764044944\n",
      "Accuracy score of testing data :  0.8212290502793296\n"
     ]
    }
   ],
   "source": [
    "from sklearn.ensemble import RandomForestClassifier\n",
    "model = RandomForestClassifier(max_depth=2, random_state=0)\n",
    "model.fit(X_train, Y_train)\n",
    "X_train_prediction = model.predict(X_train)\n",
    "X_test_prediction = model.predict(X_test)\n",
    "rf_training_data_accuracy = accuracy_score(Y_train, X_train_prediction)\n",
    "print('Accuracy score of training data : ', rf_training_data_accuracy)\n",
    "rf_testing_data_accuracy = accuracy_score(Y_test, X_test_prediction)\n",
    "print('Accuracy score of testing data : ', rf_testing_data_accuracy)"
   ]
  },
  {
   "cell_type": "markdown",
   "id": "d1375f18",
   "metadata": {},
   "source": [
    "# 2.1 Random Forest Classifier with KFlod"
   ]
  },
  {
   "cell_type": "code",
   "execution_count": 267,
   "id": "24c8dc2f",
   "metadata": {},
   "outputs": [
    {
     "name": "stdout",
     "output_type": "stream",
     "text": [
      "KFold Split: 1 \n",
      "\n",
      "Accuracy of KFold  1 is:  0.7039106145251397 \n",
      "\n",
      "Classification Report of KFold  1  is following: \n",
      "\n",
      "              precision    recall  f1-score   support\n",
      "\n",
      "           0       0.78      0.78      0.78       120\n",
      "           1       0.55      0.56      0.55        59\n",
      "\n",
      "    accuracy                           0.70       179\n",
      "   macro avg       0.67      0.67      0.67       179\n",
      "weighted avg       0.71      0.70      0.70       179\n",
      "\n",
      "Confusion Matrix of KFold  1  is following:\n",
      "\n",
      "[[93 27]\n",
      " [26 33]]\n",
      "\n",
      "\n",
      "KFold Split: 2 \n",
      "\n",
      "Accuracy of KFold  2 is:  0.7696629213483146 \n",
      "\n",
      "Classification Report of KFold  2  is following: \n",
      "\n",
      "              precision    recall  f1-score   support\n",
      "\n",
      "           0       0.73      0.92      0.82        99\n",
      "           1       0.85      0.58      0.69        79\n",
      "\n",
      "    accuracy                           0.77       178\n",
      "   macro avg       0.79      0.75      0.75       178\n",
      "weighted avg       0.79      0.77      0.76       178\n",
      "\n",
      "Confusion Matrix of KFold  2  is following:\n",
      "\n",
      "[[91  8]\n",
      " [33 46]]\n",
      "\n",
      "\n",
      "KFold Split: 3 \n",
      "\n",
      "Accuracy of KFold  3 is:  0.7808988764044944 \n",
      "\n",
      "Classification Report of KFold  3  is following: \n",
      "\n",
      "              precision    recall  f1-score   support\n",
      "\n",
      "           0       0.82      0.82      0.82       109\n",
      "           1       0.71      0.72      0.72        69\n",
      "\n",
      "    accuracy                           0.78       178\n",
      "   macro avg       0.77      0.77      0.77       178\n",
      "weighted avg       0.78      0.78      0.78       178\n",
      "\n",
      "Confusion Matrix of KFold  3  is following:\n",
      "\n",
      "[[89 20]\n",
      " [19 50]]\n",
      "\n",
      "\n",
      "KFold Split: 4 \n",
      "\n",
      "Accuracy of KFold  4 is:  0.7359550561797753 \n",
      "\n",
      "Classification Report of KFold  4  is following: \n",
      "\n",
      "              precision    recall  f1-score   support\n",
      "\n",
      "           0       0.74      0.85      0.79       106\n",
      "           1       0.72      0.57      0.64        72\n",
      "\n",
      "    accuracy                           0.74       178\n",
      "   macro avg       0.73      0.71      0.71       178\n",
      "weighted avg       0.73      0.74      0.73       178\n",
      "\n",
      "Confusion Matrix of KFold  4  is following:\n",
      "\n",
      "[[90 16]\n",
      " [31 41]]\n",
      "\n",
      "\n",
      "KFold Split: 5 \n",
      "\n",
      "Accuracy of KFold  5 is:  0.8033707865168539 \n",
      "\n",
      "Classification Report of KFold  5  is following: \n",
      "\n",
      "              precision    recall  f1-score   support\n",
      "\n",
      "           0       0.83      0.87      0.85       115\n",
      "           1       0.74      0.68      0.71        63\n",
      "\n",
      "    accuracy                           0.80       178\n",
      "   macro avg       0.79      0.78      0.78       178\n",
      "weighted avg       0.80      0.80      0.80       178\n",
      "\n",
      "Confusion Matrix of KFold  5  is following:\n",
      "\n",
      "[[100  15]\n",
      " [ 20  43]]\n",
      "\n",
      "\n",
      "\n",
      "\n",
      "Average Confusion Matrix\n",
      "      0     1\n",
      "0  93.0  18.0\n",
      "1  26.0  43.0\n",
      "Total Average Accuracy of RandomForestClassifier is : 0.7587596509949155\n"
     ]
    }
   ],
   "source": [
    "model = RandomForestClassifier(max_depth=2, random_state=0)\n",
    "kf = KFold(n_splits=5)\n",
    "results_rf = []\n",
    "fold = 0\n",
    "i=0\n",
    "conf_matrix_lists = []\n",
    "for train_index, test_index in kf.split(X,Y):\n",
    "    i=i+1\n",
    "    print(\"KFold Split:\",i,'\\n')\n",
    "    fold += 1\n",
    "    Xtrain, Xtest = X.iloc[train_index], X.iloc[test_index]\n",
    "    ytrain, ytest = Y.iloc[train_index], Y.iloc[test_index]\n",
    "    model.fit(Xtrain, ytrain)\n",
    "    predictions = model.predict(Xtest)\n",
    "    accuracy = accuracy_score(ytest, predictions)\n",
    "    results_rf.append(accuracy)\n",
    "    print(\"Accuracy of KFold \",i, \"is: \",accuracy, '\\n')\n",
    "    print(\"Classification Report of KFold \",i,\" is following:\", '\\n')\n",
    "    print(classification_report(ytest, predictions))\n",
    "    print(\"Confusion Matrix of KFold \",i,\" is following:\\n\")\n",
    "    _conf_mat=confusion_matrix(ytest, predictions)\n",
    "    conf_matrix_lists.append(_conf_mat)\n",
    "    print(_conf_mat)\n",
    "    print('\\n')\n",
    "\n",
    "print('\\n')\n",
    "print('Average Confusion Matrix')\n",
    "_mean_of_conf_mat = np.mean(conf_matrix_lists, axis=0)\n",
    "\n",
    "_mean_of_conf_mat = np.ceil(_mean_of_conf_mat)\n",
    "\n",
    "conf_df=pd.DataFrame(_mean_of_conf_mat)\n",
    "labels =['Not Survived','Survived']\n",
    "print(conf_df)\n",
    "\n",
    "mean_result_rf = np.mean(results_rf)\n",
    "print(\"Total Average Accuracy of RandomForestClassifier is : {0}\".format(mean_result_rf)) "
   ]
  },
  {
   "cell_type": "markdown",
   "id": "b5a07bdc",
   "metadata": {},
   "source": [
    "# 3.0 Naive Bayes Algorithm"
   ]
  },
  {
   "cell_type": "code",
   "execution_count": 256,
   "id": "a6abd798",
   "metadata": {},
   "outputs": [
    {
     "name": "stdout",
     "output_type": "stream",
     "text": [
      "Accuracy score of training data :  0.75\n",
      "Accuracy score of testing data :  0.7988826815642458\n"
     ]
    }
   ],
   "source": [
    "from sklearn.naive_bayes import GaussianNB\n",
    "model = GaussianNB()\n",
    "model.fit(X_train, Y_train)\n",
    "X_train_prediction = model.predict(X_train)\n",
    "X_test_prediction = model.predict(X_test)\n",
    "nb_training_data_accuracy = accuracy_score(Y_train, X_train_prediction)\n",
    "print('Accuracy score of training data : ', nb_training_data_accuracy)\n",
    "nb_testing_data_accuracy = accuracy_score(Y_test, X_test_prediction)\n",
    "print('Accuracy score of testing data : ', nb_testing_data_accuracy)"
   ]
  },
  {
   "cell_type": "markdown",
   "id": "5da91954",
   "metadata": {},
   "source": [
    "# 3.1 Naive Bayes with KFold"
   ]
  },
  {
   "cell_type": "code",
   "execution_count": 268,
   "id": "303c1bcb",
   "metadata": {},
   "outputs": [
    {
     "name": "stdout",
     "output_type": "stream",
     "text": [
      "KFold Split: 1 \n",
      "\n",
      "Accuracy of KFold  1 is:  0.6368715083798883 \n",
      "\n",
      "Classification Report of KFold  1  is following: \n",
      "\n",
      "              precision    recall  f1-score   support\n",
      "\n",
      "           0       0.78      0.64      0.70       120\n",
      "           1       0.46      0.63      0.53        59\n",
      "\n",
      "    accuracy                           0.64       179\n",
      "   macro avg       0.62      0.63      0.62       179\n",
      "weighted avg       0.67      0.64      0.65       179\n",
      "\n",
      "Confusion Matrix of KFold  1  is following:\n",
      "\n",
      "[[77 43]\n",
      " [22 37]]\n",
      "\n",
      "\n",
      "KFold Split: 2 \n",
      "\n",
      "Accuracy of KFold  2 is:  0.7584269662921348 \n",
      "\n",
      "Classification Report of KFold  2  is following: \n",
      "\n",
      "              precision    recall  f1-score   support\n",
      "\n",
      "           0       0.77      0.80      0.79        99\n",
      "           1       0.74      0.71      0.72        79\n",
      "\n",
      "    accuracy                           0.76       178\n",
      "   macro avg       0.76      0.75      0.75       178\n",
      "weighted avg       0.76      0.76      0.76       178\n",
      "\n",
      "Confusion Matrix of KFold  2  is following:\n",
      "\n",
      "[[79 20]\n",
      " [23 56]]\n",
      "\n",
      "\n",
      "KFold Split: 3 \n",
      "\n",
      "Accuracy of KFold  3 is:  0.7584269662921348 \n",
      "\n",
      "Classification Report of KFold  3  is following: \n",
      "\n",
      "              precision    recall  f1-score   support\n",
      "\n",
      "           0       0.84      0.75      0.79       109\n",
      "           1       0.66      0.77      0.71        69\n",
      "\n",
      "    accuracy                           0.76       178\n",
      "   macro avg       0.75      0.76      0.75       178\n",
      "weighted avg       0.77      0.76      0.76       178\n",
      "\n",
      "Confusion Matrix of KFold  3  is following:\n",
      "\n",
      "[[82 27]\n",
      " [16 53]]\n",
      "\n",
      "\n",
      "KFold Split: 4 \n",
      "\n",
      "Accuracy of KFold  4 is:  0.7528089887640449 \n",
      "\n",
      "Classification Report of KFold  4  is following: \n",
      "\n",
      "              precision    recall  f1-score   support\n",
      "\n",
      "           0       0.80      0.77      0.79       106\n",
      "           1       0.68      0.72      0.70        72\n",
      "\n",
      "    accuracy                           0.75       178\n",
      "   macro avg       0.74      0.75      0.75       178\n",
      "weighted avg       0.76      0.75      0.75       178\n",
      "\n",
      "Confusion Matrix of KFold  4  is following:\n",
      "\n",
      "[[82 24]\n",
      " [20 52]]\n",
      "\n",
      "\n",
      "KFold Split: 5 \n",
      "\n",
      "Accuracy of KFold  5 is:  0.8146067415730337 \n",
      "\n",
      "Classification Report of KFold  5  is following: \n",
      "\n",
      "              precision    recall  f1-score   support\n",
      "\n",
      "           0       0.87      0.83      0.85       115\n",
      "           1       0.72      0.78      0.75        63\n",
      "\n",
      "    accuracy                           0.81       178\n",
      "   macro avg       0.80      0.81      0.80       178\n",
      "weighted avg       0.82      0.81      0.82       178\n",
      "\n",
      "Confusion Matrix of KFold  5  is following:\n",
      "\n",
      "[[96 19]\n",
      " [14 49]]\n",
      "\n",
      "\n",
      "\n",
      "\n",
      "Average Confusion Matrix\n",
      "      0     1\n",
      "0  84.0  27.0\n",
      "1  19.0  50.0\n",
      "Total Average Accuracy of GaussianNB is : 0.7442282342602472\n"
     ]
    }
   ],
   "source": [
    "model = GaussianNB()\n",
    "kf = KFold(n_splits=5)\n",
    "results_nb = []\n",
    "fold = 0\n",
    "i=0\n",
    "conf_matrix_lists = []\n",
    "for train_index, test_index in kf.split(X,Y):\n",
    "    i=i+1\n",
    "    print(\"KFold Split:\",i,'\\n')\n",
    "    fold += 1\n",
    "    Xtrain, Xtest = X.iloc[train_index], X.iloc[test_index]\n",
    "    ytrain, ytest = Y.iloc[train_index], Y.iloc[test_index]\n",
    "    model.fit(Xtrain, ytrain)\n",
    "    predictions = model.predict(Xtest)\n",
    "    accuracy = accuracy_score(ytest, predictions)\n",
    "    results_nb.append(accuracy)\n",
    "    print(\"Accuracy of KFold \",i, \"is: \",accuracy, '\\n')\n",
    "    print(\"Classification Report of KFold \",i,\" is following:\", '\\n')\n",
    "    print(classification_report(ytest, predictions))\n",
    "    print(\"Confusion Matrix of KFold \",i,\" is following:\\n\")\n",
    "    _conf_mat=confusion_matrix(ytest, predictions)\n",
    "    conf_matrix_lists.append(_conf_mat)\n",
    "    print(_conf_mat)\n",
    "    print('\\n')\n",
    "\n",
    "print('\\n')\n",
    "print('Average Confusion Matrix')\n",
    "_mean_of_conf_mat = np.mean(conf_matrix_lists, axis=0)\n",
    "\n",
    "_mean_of_conf_mat = np.ceil(_mean_of_conf_mat)\n",
    "\n",
    "conf_df=pd.DataFrame(_mean_of_conf_mat)\n",
    "labels =['Not Survived','Survived']\n",
    "print(conf_df)\n",
    "\n",
    "mean_result_nb = np.mean(results_nb)\n",
    "print(\"Total Average Accuracy of GaussianNB is : {0}\".format(mean_result_nb)) "
   ]
  },
  {
   "cell_type": "markdown",
   "id": "d6299b95",
   "metadata": {},
   "source": [
    "# 4.0 KNN Algorithm"
   ]
  },
  {
   "cell_type": "code",
   "execution_count": 260,
   "id": "f487a142",
   "metadata": {},
   "outputs": [
    {
     "name": "stdout",
     "output_type": "stream",
     "text": [
      "Accuracy score of training data :  0.7682584269662921\n",
      "Accuracy score of testing data :  0.8379888268156425\n"
     ]
    },
    {
     "name": "stderr",
     "output_type": "stream",
     "text": [
      "/home/iamsyedjafer/.local/lib/python3.8/site-packages/sklearn/base.py:441: UserWarning: X does not have valid feature names, but KNeighborsClassifier was fitted with feature names\n",
      "  warnings.warn(\n",
      "/home/iamsyedjafer/.local/lib/python3.8/site-packages/sklearn/base.py:441: UserWarning: X does not have valid feature names, but KNeighborsClassifier was fitted with feature names\n",
      "  warnings.warn(\n"
     ]
    }
   ],
   "source": [
    "from sklearn.neighbors import KNeighborsClassifier\n",
    "model = KNeighborsClassifier(n_neighbors=2, algorithm='ball_tree')\n",
    "model.fit(X_train, Y_train)\n",
    "X_train_prediction = model.predict(X_train)\n",
    "X_test_prediction = model.predict(X_test)\n",
    "knn_training_data_accuracy = accuracy_score(Y_train, X_train_prediction)\n",
    "print('Accuracy score of training data : ', knn_training_data_accuracy)\n",
    "knn_testing_data_accuracy = accuracy_score(Y_test, X_test_prediction)\n",
    "print('Accuracy score of testing data : ', knn_testing_data_accuracy)"
   ]
  },
  {
   "cell_type": "markdown",
   "id": "6b926aec",
   "metadata": {},
   "source": [
    "# 4.1 KNN Algorithm with KFold"
   ]
  },
  {
   "cell_type": "code",
   "execution_count": 269,
   "id": "91cda8b1",
   "metadata": {},
   "outputs": [
    {
     "name": "stdout",
     "output_type": "stream",
     "text": [
      "KFold Split: 1 \n",
      "\n",
      "Accuracy of KFold  1 is:  0.7541899441340782 \n",
      "\n",
      "Classification Report of KFold  1  is following: \n",
      "\n",
      "              precision    recall  f1-score   support\n",
      "\n",
      "           0       0.78      0.88      0.83       120\n",
      "           1       0.67      0.49      0.57        59\n",
      "\n",
      "    accuracy                           0.75       179\n",
      "   macro avg       0.73      0.69      0.70       179\n",
      "weighted avg       0.74      0.75      0.74       179\n",
      "\n",
      "Confusion Matrix of KFold  1  is following:\n",
      "\n",
      "[[106  14]\n",
      " [ 30  29]]\n",
      "\n",
      "\n",
      "KFold Split: 2 \n",
      "\n",
      "Accuracy of KFold  2 is:  0.7247191011235955 \n",
      "\n",
      "Classification Report of KFold  2  is following: \n",
      "\n",
      "              precision    recall  f1-score   support\n",
      "\n",
      "           0       0.69      0.91      0.79        99\n",
      "           1       0.81      0.49      0.61        79\n",
      "\n",
      "    accuracy                           0.72       178\n",
      "   macro avg       0.75      0.70      0.70       178\n",
      "weighted avg       0.75      0.72      0.71       178\n",
      "\n",
      "Confusion Matrix of KFold  2  is following:\n",
      "\n",
      "[[90  9]\n",
      " [40 39]]\n",
      "\n",
      "\n",
      "KFold Split: 3 \n",
      "\n",
      "Accuracy of KFold  3 is:  0.7191011235955056 \n",
      "\n",
      "Classification Report of KFold  3  is following: \n",
      "\n",
      "              precision    recall  f1-score   support\n",
      "\n",
      "           0       0.72      0.90      0.80       109\n",
      "           1       0.73      0.43      0.55        69\n",
      "\n",
      "    accuracy                           0.72       178\n",
      "   macro avg       0.72      0.67      0.67       178\n",
      "weighted avg       0.72      0.72      0.70       178\n",
      "\n",
      "Confusion Matrix of KFold  3  is following:\n",
      "\n",
      "[[98 11]\n",
      " [39 30]]\n",
      "\n",
      "\n",
      "KFold Split: 4 \n",
      "\n",
      "Accuracy of KFold  4 is:  0.7247191011235955 \n",
      "\n",
      "Classification Report of KFold  4  is following: \n",
      "\n",
      "              precision    recall  f1-score   support\n",
      "\n",
      "           0       0.70      0.95      0.80       106\n",
      "           1       0.85      0.39      0.53        72\n",
      "\n",
      "    accuracy                           0.72       178\n",
      "   macro avg       0.77      0.67      0.67       178\n",
      "weighted avg       0.76      0.72      0.69       178\n",
      "\n",
      "Confusion Matrix of KFold  4  is following:\n",
      "\n",
      "[[101   5]\n",
      " [ 44  28]]\n",
      "\n",
      "\n",
      "KFold Split: 5 \n",
      "\n",
      "Accuracy of KFold  5 is:  0.7808988764044944 \n",
      "\n",
      "Classification Report of KFold  5  is following: \n",
      "\n",
      "              precision    recall  f1-score   support\n",
      "\n",
      "           0       0.77      0.95      0.85       115\n",
      "           1       0.83      0.48      0.61        63\n",
      "\n",
      "    accuracy                           0.78       178\n",
      "   macro avg       0.80      0.71      0.73       178\n",
      "weighted avg       0.79      0.78      0.76       178\n",
      "\n",
      "Confusion Matrix of KFold  5  is following:\n",
      "\n",
      "[[109   6]\n",
      " [ 33  30]]\n",
      "\n",
      "\n",
      "\n",
      "\n",
      "Average Confusion Matrix\n",
      "       0     1\n",
      "0  101.0   9.0\n",
      "1   38.0  32.0\n",
      "Total Average Accuracy of KNN Algorithm  is : 0.7407256292762538\n"
     ]
    },
    {
     "name": "stderr",
     "output_type": "stream",
     "text": [
      "/home/iamsyedjafer/.local/lib/python3.8/site-packages/sklearn/base.py:441: UserWarning: X does not have valid feature names, but KNeighborsClassifier was fitted with feature names\n",
      "  warnings.warn(\n",
      "/home/iamsyedjafer/.local/lib/python3.8/site-packages/sklearn/base.py:441: UserWarning: X does not have valid feature names, but KNeighborsClassifier was fitted with feature names\n",
      "  warnings.warn(\n",
      "/home/iamsyedjafer/.local/lib/python3.8/site-packages/sklearn/base.py:441: UserWarning: X does not have valid feature names, but KNeighborsClassifier was fitted with feature names\n",
      "  warnings.warn(\n",
      "/home/iamsyedjafer/.local/lib/python3.8/site-packages/sklearn/base.py:441: UserWarning: X does not have valid feature names, but KNeighborsClassifier was fitted with feature names\n",
      "  warnings.warn(\n",
      "/home/iamsyedjafer/.local/lib/python3.8/site-packages/sklearn/base.py:441: UserWarning: X does not have valid feature names, but KNeighborsClassifier was fitted with feature names\n",
      "  warnings.warn(\n"
     ]
    }
   ],
   "source": [
    "model = KNeighborsClassifier(n_neighbors=2, algorithm='ball_tree')\n",
    "kf = KFold(n_splits=5)\n",
    "results_knn = []\n",
    "fold = 0\n",
    "i=0\n",
    "conf_matrix_lists = []\n",
    "for train_index, test_index in kf.split(X,Y):\n",
    "    i=i+1\n",
    "    print(\"KFold Split:\",i,'\\n')\n",
    "    fold += 1\n",
    "    Xtrain, Xtest = X.iloc[train_index], X.iloc[test_index]\n",
    "    ytrain, ytest = Y.iloc[train_index], Y.iloc[test_index]\n",
    "    model.fit(Xtrain, ytrain)\n",
    "    predictions = model.predict(Xtest)\n",
    "    accuracy = accuracy_score(ytest, predictions)\n",
    "    results_knn.append(accuracy)\n",
    "    print(\"Accuracy of KFold \",i, \"is: \",accuracy, '\\n')\n",
    "    print(\"Classification Report of KFold \",i,\" is following:\", '\\n')\n",
    "    print(classification_report(ytest, predictions))\n",
    "    print(\"Confusion Matrix of KFold \",i,\" is following:\\n\")\n",
    "    _conf_mat=confusion_matrix(ytest, predictions)\n",
    "    conf_matrix_lists.append(_conf_mat)\n",
    "    print(_conf_mat)\n",
    "    print('\\n')\n",
    "\n",
    "print('\\n')\n",
    "print('Average Confusion Matrix')\n",
    "_mean_of_conf_mat = np.mean(conf_matrix_lists, axis=0)\n",
    "\n",
    "_mean_of_conf_mat = np.ceil(_mean_of_conf_mat)\n",
    "\n",
    "conf_df=pd.DataFrame(_mean_of_conf_mat)\n",
    "labels =['Not Survived','Survived']\n",
    "print(conf_df)\n",
    "\n",
    "mean_result_knn = np.mean(results_knn)\n",
    "print(\"Total Average Accuracy of KNN Algorithm  is : {0}\".format(mean_result_knn)) "
   ]
  },
  {
   "cell_type": "markdown",
   "id": "29bf287e",
   "metadata": {},
   "source": [
    "# 5.0 SGD Algorithm"
   ]
  },
  {
   "cell_type": "code",
   "execution_count": 262,
   "id": "ed70b011",
   "metadata": {},
   "outputs": [
    {
     "name": "stdout",
     "output_type": "stream",
     "text": [
      "Accuracy score of training data :  0.7682584269662921\n",
      "Accuracy score of testing data :  0.8100558659217877\n"
     ]
    }
   ],
   "source": [
    "from sklearn.linear_model import SGDClassifier\n",
    "from sklearn.preprocessing import StandardScaler\n",
    "from sklearn.pipeline import make_pipeline\n",
    "model = make_pipeline(StandardScaler(), SGDClassifier(max_iter=9000, tol=1e-3))\n",
    "\n",
    "model.fit(X_train, Y_train)\n",
    "X_train_prediction = model.predict(X_train)\n",
    "X_test_prediction = model.predict(X_test)\n",
    "sgd_training_data_accuracy = accuracy_score(Y_train, X_train_prediction)\n",
    "print('Accuracy score of training data : ', sgd_training_data_accuracy)\n",
    "sgd_testing_data_accuracy = accuracy_score(Y_test, X_test_prediction)\n",
    "print('Accuracy score of testing data : ', sgd_testing_data_accuracy)"
   ]
  },
  {
   "cell_type": "markdown",
   "id": "6b4bf3d3",
   "metadata": {},
   "source": [
    "# 5.1 SGD Algorithm with KFold"
   ]
  },
  {
   "cell_type": "code",
   "execution_count": 270,
   "id": "4e7544c2",
   "metadata": {},
   "outputs": [
    {
     "name": "stdout",
     "output_type": "stream",
     "text": [
      "KFold Split: 1 \n",
      "\n",
      "Accuracy of KFold  1 is:  0.6312849162011173 \n",
      "\n",
      "Classification Report of KFold  1  is following: \n",
      "\n",
      "              precision    recall  f1-score   support\n",
      "\n",
      "           0       0.79      0.62      0.69       120\n",
      "           1       0.46      0.66      0.54        59\n",
      "\n",
      "    accuracy                           0.63       179\n",
      "   macro avg       0.62      0.64      0.62       179\n",
      "weighted avg       0.68      0.63      0.64       179\n",
      "\n",
      "Confusion Matrix of KFold  1  is following:\n",
      "\n",
      "[[74 46]\n",
      " [20 39]]\n",
      "\n",
      "\n",
      "KFold Split: 2 \n",
      "\n",
      "Accuracy of KFold  2 is:  0.7921348314606742 \n",
      "\n",
      "Classification Report of KFold  2  is following: \n",
      "\n",
      "              precision    recall  f1-score   support\n",
      "\n",
      "           0       0.80      0.84      0.82        99\n",
      "           1       0.78      0.73      0.76        79\n",
      "\n",
      "    accuracy                           0.79       178\n",
      "   macro avg       0.79      0.79      0.79       178\n",
      "weighted avg       0.79      0.79      0.79       178\n",
      "\n",
      "Confusion Matrix of KFold  2  is following:\n",
      "\n",
      "[[83 16]\n",
      " [21 58]]\n",
      "\n",
      "\n",
      "KFold Split: 3 \n",
      "\n",
      "Accuracy of KFold  3 is:  0.6741573033707865 \n",
      "\n",
      "Classification Report of KFold  3  is following: \n",
      "\n",
      "              precision    recall  f1-score   support\n",
      "\n",
      "           0       0.69      0.84      0.76       109\n",
      "           1       0.62      0.41      0.49        69\n",
      "\n",
      "    accuracy                           0.67       178\n",
      "   macro avg       0.66      0.62      0.63       178\n",
      "weighted avg       0.66      0.67      0.66       178\n",
      "\n",
      "Confusion Matrix of KFold  3  is following:\n",
      "\n",
      "[[92 17]\n",
      " [41 28]]\n",
      "\n",
      "\n",
      "KFold Split: 4 \n",
      "\n",
      "Accuracy of KFold  4 is:  0.7359550561797753 \n",
      "\n",
      "Classification Report of KFold  4  is following: \n",
      "\n",
      "              precision    recall  f1-score   support\n",
      "\n",
      "           0       0.77      0.80      0.78       106\n",
      "           1       0.69      0.64      0.66        72\n",
      "\n",
      "    accuracy                           0.74       178\n",
      "   macro avg       0.73      0.72      0.72       178\n",
      "weighted avg       0.73      0.74      0.73       178\n",
      "\n",
      "Confusion Matrix of KFold  4  is following:\n",
      "\n",
      "[[85 21]\n",
      " [26 46]]\n",
      "\n",
      "\n",
      "KFold Split: 5 \n",
      "\n",
      "Accuracy of KFold  5 is:  0.7865168539325843 \n",
      "\n",
      "Classification Report of KFold  5  is following: \n",
      "\n",
      "              precision    recall  f1-score   support\n",
      "\n",
      "           0       0.89      0.77      0.82       115\n",
      "           1       0.66      0.83      0.73        63\n",
      "\n",
      "    accuracy                           0.79       178\n",
      "   macro avg       0.77      0.80      0.78       178\n",
      "weighted avg       0.81      0.79      0.79       178\n",
      "\n",
      "Confusion Matrix of KFold  5  is following:\n",
      "\n",
      "[[88 27]\n",
      " [11 52]]\n",
      "\n",
      "\n",
      "\n",
      "\n",
      "Average Confusion Matrix\n",
      "      0     1\n",
      "0  85.0  26.0\n",
      "1  24.0  45.0\n",
      "Total Average Accuracy of SGD Algorithm  is : 0.7240097922289875\n"
     ]
    }
   ],
   "source": [
    "model = make_pipeline(StandardScaler(), SGDClassifier(max_iter=9000, tol=1e-3))\n",
    "kf = KFold(n_splits=5)\n",
    "results_sgd = []\n",
    "fold = 0\n",
    "i=0\n",
    "conf_matrix_lists = []\n",
    "for train_index, test_index in kf.split(X,Y):\n",
    "    i=i+1\n",
    "    print(\"KFold Split:\",i,'\\n')\n",
    "    fold += 1\n",
    "    Xtrain, Xtest = X.iloc[train_index], X.iloc[test_index]\n",
    "    ytrain, ytest = Y.iloc[train_index], Y.iloc[test_index]\n",
    "    model.fit(Xtrain, ytrain)\n",
    "    predictions = model.predict(Xtest)\n",
    "    accuracy = accuracy_score(ytest, predictions)\n",
    "    results_sgd.append(accuracy)\n",
    "    print(\"Accuracy of KFold \",i, \"is: \",accuracy, '\\n')\n",
    "    print(\"Classification Report of KFold \",i,\" is following:\", '\\n')\n",
    "    print(classification_report(ytest, predictions))\n",
    "    print(\"Confusion Matrix of KFold \",i,\" is following:\\n\")\n",
    "    _conf_mat=confusion_matrix(ytest, predictions)\n",
    "    conf_matrix_lists.append(_conf_mat)\n",
    "    print(_conf_mat)\n",
    "    print('\\n')\n",
    "\n",
    "print('\\n')\n",
    "print('Average Confusion Matrix')\n",
    "_mean_of_conf_mat = np.mean(conf_matrix_lists, axis=0)\n",
    "\n",
    "_mean_of_conf_mat = np.ceil(_mean_of_conf_mat)\n",
    "\n",
    "conf_df=pd.DataFrame(_mean_of_conf_mat)\n",
    "labels =['Not Survived','Survived']\n",
    "print(conf_df)\n",
    "\n",
    "mean_result_sgd = np.mean(results_sgd)\n",
    "print(\"Total Average Accuracy of SGD Algorithm  is : {0}\".format(mean_result_sgd)) "
   ]
  },
  {
   "cell_type": "markdown",
   "id": "cc9d18cb",
   "metadata": {},
   "source": [
    "# 6.0 Decision Tree Classifier"
   ]
  },
  {
   "cell_type": "code",
   "execution_count": 264,
   "id": "8da2fafb",
   "metadata": {},
   "outputs": [
    {
     "name": "stdout",
     "output_type": "stream",
     "text": [
      "Accuracy score of training data :  0.8286516853932584\n",
      "Accuracy score of testing data :  0.7988826815642458\n"
     ]
    }
   ],
   "source": [
    "from sklearn.tree import DecisionTreeClassifier\n",
    "model = DecisionTreeClassifier(random_state=10)\n",
    "model.fit(X_train, Y_train)\n",
    "X_train_prediction = model.predict(X_train)\n",
    "X_test_prediction = model.predict(X_test)\n",
    "sgd_training_data_accuracy = accuracy_score(Y_train, X_train_prediction)\n",
    "print('Accuracy score of training data : ', sgd_training_data_accuracy)\n",
    "sgd_testing_data_accuracy = accuracy_score(Y_test, X_test_prediction)\n",
    "print('Accuracy score of testing data : ', sgd_testing_data_accuracy)"
   ]
  },
  {
   "cell_type": "markdown",
   "id": "a91f38ab",
   "metadata": {},
   "source": [
    "# 6.1 Decision Tree with KFold"
   ]
  },
  {
   "cell_type": "code",
   "execution_count": 275,
   "id": "4484dd5f",
   "metadata": {},
   "outputs": [
    {
     "name": "stdout",
     "output_type": "stream",
     "text": [
      "KFold Split: 1 \n",
      "\n",
      "Accuracy of KFold  1 is:  0.7988826815642458 \n",
      "\n",
      "Classification Report of KFold  1  is following: \n",
      "\n",
      "              precision    recall  f1-score   support\n",
      "\n",
      "           0       0.90      0.79      0.84       120\n",
      "           1       0.66      0.81      0.73        59\n",
      "\n",
      "    accuracy                           0.80       179\n",
      "   macro avg       0.78      0.80      0.78       179\n",
      "weighted avg       0.82      0.80      0.80       179\n",
      "\n",
      "Confusion Matrix of KFold  1  is following:\n",
      "\n",
      "[[95 25]\n",
      " [11 48]]\n",
      "\n",
      "\n",
      "KFold Split: 2 \n",
      "\n",
      "Accuracy of KFold  2 is:  0.7528089887640449 \n",
      "\n",
      "Classification Report of KFold  2  is following: \n",
      "\n",
      "              precision    recall  f1-score   support\n",
      "\n",
      "           0       0.74      0.85      0.79        99\n",
      "           1       0.77      0.63      0.69        79\n",
      "\n",
      "    accuracy                           0.75       178\n",
      "   macro avg       0.76      0.74      0.74       178\n",
      "weighted avg       0.75      0.75      0.75       178\n",
      "\n",
      "Confusion Matrix of KFold  2  is following:\n",
      "\n",
      "[[84 15]\n",
      " [29 50]]\n",
      "\n",
      "\n",
      "KFold Split: 3 \n",
      "\n",
      "Accuracy of KFold  3 is:  0.797752808988764 \n",
      "\n",
      "Classification Report of KFold  3  is following: \n",
      "\n",
      "              precision    recall  f1-score   support\n",
      "\n",
      "           0       0.83      0.84      0.84       109\n",
      "           1       0.75      0.72      0.74        69\n",
      "\n",
      "    accuracy                           0.80       178\n",
      "   macro avg       0.79      0.78      0.79       178\n",
      "weighted avg       0.80      0.80      0.80       178\n",
      "\n",
      "Confusion Matrix of KFold  3  is following:\n",
      "\n",
      "[[92 17]\n",
      " [19 50]]\n",
      "\n",
      "\n",
      "KFold Split: 4 \n",
      "\n",
      "Accuracy of KFold  4 is:  0.7528089887640449 \n",
      "\n",
      "Classification Report of KFold  4  is following: \n",
      "\n",
      "              precision    recall  f1-score   support\n",
      "\n",
      "           0       0.75      0.89      0.81       106\n",
      "           1       0.77      0.56      0.65        72\n",
      "\n",
      "    accuracy                           0.75       178\n",
      "   macro avg       0.76      0.72      0.73       178\n",
      "weighted avg       0.76      0.75      0.74       178\n",
      "\n",
      "Confusion Matrix of KFold  4  is following:\n",
      "\n",
      "[[94 12]\n",
      " [32 40]]\n",
      "\n",
      "\n",
      "KFold Split: 5 \n",
      "\n",
      "Accuracy of KFold  5 is:  0.8258426966292135 \n",
      "\n",
      "Classification Report of KFold  5  is following: \n",
      "\n",
      "              precision    recall  f1-score   support\n",
      "\n",
      "           0       0.84      0.90      0.87       115\n",
      "           1       0.79      0.70      0.74        63\n",
      "\n",
      "    accuracy                           0.83       178\n",
      "   macro avg       0.81      0.80      0.80       178\n",
      "weighted avg       0.82      0.83      0.82       178\n",
      "\n",
      "Confusion Matrix of KFold  5  is following:\n",
      "\n",
      "[[103  12]\n",
      " [ 19  44]]\n",
      "\n",
      "\n",
      "\n",
      "\n",
      "Average Confusion Matrix\n",
      "      0     1\n",
      "0  94.0  17.0\n",
      "1  22.0  47.0\n",
      "Total Average Accuracy of Decision Tree Algorithm  is : 0.7856192329420626\n"
     ]
    }
   ],
   "source": [
    "model = DecisionTreeClassifier(random_state=10)\n",
    "kf = KFold(n_splits=5)\n",
    "results_dt = []\n",
    "fold = 0\n",
    "i=0\n",
    "conf_matrix_lists = []\n",
    "for train_index, test_index in kf.split(X,Y):\n",
    "    i=i+1\n",
    "    print(\"KFold Split:\",i,'\\n')\n",
    "    fold += 1\n",
    "    Xtrain, Xtest = X.iloc[train_index], X.iloc[test_index]\n",
    "    ytrain, ytest = Y.iloc[train_index], Y.iloc[test_index]\n",
    "    model.fit(Xtrain, ytrain)\n",
    "    predictions = model.predict(Xtest)\n",
    "    accuracy = accuracy_score(ytest, predictions)\n",
    "    results_dt.append(accuracy)\n",
    "    print(\"Accuracy of KFold \",i, \"is: \",accuracy, '\\n')\n",
    "    print(\"Classification Report of KFold \",i,\" is following:\", '\\n')\n",
    "    print(classification_report(ytest, predictions))\n",
    "    print(\"Confusion Matrix of KFold \",i,\" is following:\\n\")\n",
    "    _conf_mat=confusion_matrix(ytest, predictions)\n",
    "    conf_matrix_lists.append(_conf_mat)\n",
    "    print(_conf_mat)\n",
    "    print('\\n')\n",
    "\n",
    "print('\\n')\n",
    "print('Average Confusion Matrix')\n",
    "_mean_of_conf_mat = np.mean(conf_matrix_lists, axis=0)\n",
    "\n",
    "_mean_of_conf_mat = np.ceil(_mean_of_conf_mat)\n",
    "\n",
    "conf_df=pd.DataFrame(_mean_of_conf_mat)\n",
    "labels =['Not Survived','Survived']\n",
    "print(conf_df)\n",
    "\n",
    "mean_result_dt = np.mean(results_dt)\n",
    "print(\"Total Average Accuracy of Decision Tree Algorithm  is : {0}\".format(mean_result_dt)) "
   ]
  },
  {
   "cell_type": "code",
   "execution_count": 273,
   "id": "f74bb99c",
   "metadata": {},
   "outputs": [
    {
     "data": {
      "image/png": "[encoded data removed]",
      "text/plain": [
       "<Figure size 1800x720 with 1 Axes>"
      ]
     },
     "metadata": {},
     "output_type": "display_data"
    }
   ],
   "source": [
    "plot_df = pd.DataFrame()\n",
    "plot_df['lr']=results_lr\n",
    "plot_df['rf']=results_rf\n",
    "plot_df['knn']=results_knn\n",
    "plot_df['nb']=results_nb\n",
    "plot_df['sgd']=results_sgd\n",
    "plot_df['dt']=results_dt\n",
    "\n",
    "plt.figure(figsize=(25, 10))\n",
    "plt.subplot(1,1,1)\n",
    "\n",
    "plt.plot(plot_df.lr.values,color='blue',label='Logistic Regression')\n",
    "plt.plot(plot_df.rf.values,color='green',label='Random Forest')\n",
    "plt.plot(plot_df.knn.values,color='red',label='KNN')\n",
    "plt.plot(plot_df.nb.values,color='yellow',label='Naive Bayes')\n",
    "plt.plot(plot_df.sgd.values,color='pink',label='SGD')\n",
    "plt.plot(plot_df.dt.values,color='orange',label='Decision Trees')\n",
    "\n",
    "plt.title('Algorithms Comparison')\n",
    "plt.xlabel('Number of time')\n",
    "plt.ylabel('Accuracy')\n",
    "plt.legend(bbox_to_anchor=(1, 1))\n",
    "plt.show()"
   ]
  },
  {
   "cell_type": "code",
   "execution_count": 274,
   "id": "a8ab89d7",
   "metadata": {},
   "outputs": [
    {
     "data": {
      "text/plain": [
       "<AxesSubplot:>"
      ]
     },
     "execution_count": 274,
     "metadata": {},
     "output_type": "execute_result"
    },
    {
     "data": {
      "image/png": "[encoded data removed]",
      "text/plain": [
       "<Figure size 1800x720 with 1 Axes>"
      ]
     },
     "metadata": {},
     "output_type": "display_data"
    }
   ],
   "source": [
    "plot_df.plot(kind='bar',figsize=(25, 10))"
   ]
  },
  {
   "cell_type": "markdown",
   "id": "3e0a3a7f",
   "metadata": {},
   "source": [
    "# Model Inference"
   ]
  },
  {
   "cell_type": "markdown",
   "id": "2a920456",
   "metadata": {},
   "source": [
    "From the analysis of above models, Decision Tree is performing good for our data. So we can consider it as a final model"
   ]
  },
  {
   "cell_type": "code",
   "execution_count": 276,
   "id": "6e38cbcd",
   "metadata": {},
   "outputs": [
    {
     "data": {
      "text/plain": [
       "DecisionTreeClassifier(random_state=10)"
      ]
     },
     "execution_count": 276,
     "metadata": {},
     "output_type": "execute_result"
    }
   ],
   "source": [
    "from sklearn.tree import DecisionTreeClassifier\n",
    "final_model = DecisionTreeClassifier(random_state=10)\n",
    "final_model.fit(X_train, Y_train)"
   ]
  },
  {
   "cell_type": "code",
   "execution_count": 290,
   "id": "cdf8b275",
   "metadata": {},
   "outputs": [
    {
     "data": {
      "text/plain": [
       "KNeighborsClassifier(algorithm='ball_tree', n_neighbors=2)"
      ]
     },
     "execution_count": 290,
     "metadata": {},
     "output_type": "execute_result"
    }
   ],
   "source": [
    "from sklearn.neighbors import KNeighborsClassifier\n",
    "model = KNeighborsClassifier(n_neighbors=2, algorithm='ball_tree')\n",
    "model.fit(X_train, Y_train)"
   ]
  },
  {
   "cell_type": "code",
   "execution_count": 293,
   "id": "75cd98ac",
   "metadata": {},
   "outputs": [
    {
     "data": {
      "text/plain": [
       "LogisticRegression()"
      ]
     },
     "execution_count": 293,
     "metadata": {},
     "output_type": "execute_result"
    }
   ],
   "source": [
    "from sklearn.linear_model import LogisticRegression\n",
    "model = LogisticRegression()\n",
    "model.fit(X_train, Y_train)"
   ]
  },
  {
   "cell_type": "code",
   "execution_count": null,
   "id": "60102071",
   "metadata": {},
   "outputs": [],
   "source": []
  },
  {
   "cell_type": "code",
   "execution_count": null,
   "id": "3bd25c8d",
   "metadata": {},
   "outputs": [],
   "source": []
  },
  {
   "cell_type": "markdown",
   "id": "dad71ee7",
   "metadata": {},
   "source": [
    "# Preparing the Test Dataset"
   ]
  },
  {
   "cell_type": "code",
   "execution_count": 282,
   "id": "5359551e",
   "metadata": {},
   "outputs": [
    {
     "data": {
      "text/html": [
       "<div>\n",
       "<style scoped>\n",
       "    .dataframe tbody tr th:only-of-type {\n",
       "        vertical-align: middle;\n",
       "    }\n",
       "\n",
       "    .dataframe tbody tr th {\n",
       "        vertical-align: top;\n",
       "    }\n",
       "\n",
       "    .dataframe thead th {\n",
       "        text-align: right;\n",
       "    }\n",
       "</style>\n",
       "<table border=\"1\" class=\"dataframe\">\n",
       "  <thead>\n",
       "    <tr style=\"text-align: right;\">\n",
       "      <th></th>\n",
       "      <th>PassengerId</th>\n",
       "      <th>Pclass</th>\n",
       "      <th>Name</th>\n",
       "      <th>Sex</th>\n",
       "      <th>Age</th>\n",
       "      <th>SibSp</th>\n",
       "      <th>Parch</th>\n",
       "      <th>Ticket</th>\n",
       "      <th>Fare</th>\n",
       "      <th>Cabin</th>\n",
       "      <th>Embarked</th>\n",
       "    </tr>\n",
       "  </thead>\n",
       "  <tbody>\n",
       "    <tr>\n",
       "      <th>0</th>\n",
       "      <td>892</td>\n",
       "      <td>3</td>\n",
       "      <td>Kelly, Mr. James</td>\n",
       "      <td>male</td>\n",
       "      <td>34.5</td>\n",
       "      <td>0</td>\n",
       "      <td>0</td>\n",
       "      <td>330911</td>\n",
       "      <td>7.8292</td>\n",
       "      <td>NaN</td>\n",
       "      <td>Q</td>\n",
       "    </tr>\n",
       "    <tr>\n",
       "      <th>1</th>\n",
       "      <td>893</td>\n",
       "      <td>3</td>\n",
       "      <td>Wilkes, Mrs. James (Ellen Needs)</td>\n",
       "      <td>female</td>\n",
       "      <td>47.0</td>\n",
       "      <td>1</td>\n",
       "      <td>0</td>\n",
       "      <td>363272</td>\n",
       "      <td>7.0000</td>\n",
       "      <td>NaN</td>\n",
       "      <td>S</td>\n",
       "    </tr>\n",
       "    <tr>\n",
       "      <th>2</th>\n",
       "      <td>894</td>\n",
       "      <td>2</td>\n",
       "      <td>Myles, Mr. Thomas Francis</td>\n",
       "      <td>male</td>\n",
       "      <td>62.0</td>\n",
       "      <td>0</td>\n",
       "      <td>0</td>\n",
       "      <td>240276</td>\n",
       "      <td>9.6875</td>\n",
       "      <td>NaN</td>\n",
       "      <td>Q</td>\n",
       "    </tr>\n",
       "    <tr>\n",
       "      <th>3</th>\n",
       "      <td>895</td>\n",
       "      <td>3</td>\n",
       "      <td>Wirz, Mr. Albert</td>\n",
       "      <td>male</td>\n",
       "      <td>27.0</td>\n",
       "      <td>0</td>\n",
       "      <td>0</td>\n",
       "      <td>315154</td>\n",
       "      <td>8.6625</td>\n",
       "      <td>NaN</td>\n",
       "      <td>S</td>\n",
       "    </tr>\n",
       "    <tr>\n",
       "      <th>4</th>\n",
       "      <td>896</td>\n",
       "      <td>3</td>\n",
       "      <td>Hirvonen, Mrs. Alexander (Helga E Lindqvist)</td>\n",
       "      <td>female</td>\n",
       "      <td>22.0</td>\n",
       "      <td>1</td>\n",
       "      <td>1</td>\n",
       "      <td>3101298</td>\n",
       "      <td>12.2875</td>\n",
       "      <td>NaN</td>\n",
       "      <td>S</td>\n",
       "    </tr>\n",
       "  </tbody>\n",
       "</table>\n",
       "</div>"
      ],
      "text/plain": [
       "   PassengerId  Pclass                                          Name     Sex  \\\n",
       "0          892       3                              Kelly, Mr. James    male   \n",
       "1          893       3              Wilkes, Mrs. James (Ellen Needs)  female   \n",
       "2          894       2                     Myles, Mr. Thomas Francis    male   \n",
       "3          895       3                              Wirz, Mr. Albert    male   \n",
       "4          896       3  Hirvonen, Mrs. Alexander (Helga E Lindqvist)  female   \n",
       "\n",
       "    Age  SibSp  Parch   Ticket     Fare Cabin Embarked  \n",
       "0  34.5      0      0   330911   7.8292   NaN        Q  \n",
       "1  47.0      1      0   363272   7.0000   NaN        S  \n",
       "2  62.0      0      0   240276   9.6875   NaN        Q  \n",
       "3  27.0      0      0   315154   8.6625   NaN        S  \n",
       "4  22.0      1      1  3101298  12.2875   NaN        S  "
      ]
     },
     "execution_count": 282,
     "metadata": {},
     "output_type": "execute_result"
    }
   ],
   "source": [
    "test_df = pd.read_csv('../data/test.csv')\n",
    "test_df.head()"
   ]
  },
  {
   "cell_type": "code",
   "execution_count": 283,
   "id": "1e3c9c6a",
   "metadata": {},
   "outputs": [],
   "source": [
    "# Repeat all the EDA Steps for the test dataset. "
   ]
  },
  {
   "cell_type": "code",
   "execution_count": 287,
   "id": "435bb0cf",
   "metadata": {},
   "outputs": [],
   "source": [
    "test_df.columns = [x.lower() for x in test_df.columns]\n",
    "test_df.rename(columns={\n",
    "            \"passengerid\":\"passenger_id\",\n",
    "            \"pclass\":\"passenger_class\",\n",
    "            \"sibsp\":\"sibling_spouse\",\n",
    "            \"parch\":\"parent_children\"\n",
    "        }, inplace=True)\n",
    "test_df[\"salutation\"] = test_df.name.apply(lambda x: x.split(\",\")[1].split(\".\")[0].strip())\n",
    "test_df['salutation'] = test_df.salutation.map(salutation_dict)\n",
    "test_df.salutation = test_df.salutation.astype('float64')\n",
    "age_group = test_df.groupby([\"sex\",\"passenger_class\",\"salutation\"])[\"age\"]\n",
    "test_df.loc[test_df.age.isnull(), 'age'] = age_group.transform('median')\n",
    "interval = (0, 15, 43, 150) \n",
    "cats = [0, 1, 2]\n",
    "# Applying the pd.cut and using the parameters that we created \n",
    "test_df[\"age_catg\"] = pd.cut(test_df.age, interval, labels=cats)\n",
    "# Printing the new Category\n",
    "test_df[\"age_catg\"].head()\n",
    "test_df.embarked.fillna(\"S\", inplace=True)\n",
    "test_df[\"is_cabin_present\"] = [1 if x == False else 0 for x in test_df.cabin.isnull()]\n",
    "alone_index = test_df[(test_df.sibling_spouse == 0) & (test_df.parent_children == 0)].index\n",
    "test_df[\"alone\"] = 1\n",
    "test_df.loc[alone_index, \"alone\"] = 0\n",
    "test_df.embarked = encoder.fit_transform(test_df.embarked)\n",
    "test_df.salutation = encoder.fit_transform(test_df.salutation)\n",
    "test_df.age_catg = encoder.fit_transform(test_df.age_catg)\n",
    "test_df.sex = encoder.fit_transform(test_df.sex)\n",
    "test_df.loc[ test_df['fare'] <= 7.91, 'fare'] = 0\n",
    "test_df.loc[(test_df['fare'] > 7.91) & (test_df['fare'] <= 14.454), 'fare'] = 1\n",
    "test_df.loc[(test_df['fare'] > 14.454) & (test_df['fare'] <= 31), 'fare']   = 2\n",
    "test_df.loc[ test_df['fare'] > 31, 'fare'] = 3\n",
    "test_df['fare'] = test_df['fare'].astype('float64')\n",
    "test_df.fare.fillna(test_df.fare.mean(), inplace=True) # Newly added, Since fare in test data is null\n",
    "Test_X = test_df[['alone','is_cabin_present','age_catg','embarked','fare','sex']]"
   ]
  },
  {
   "cell_type": "markdown",
   "id": "7115b4ad",
   "metadata": {},
   "source": [
    "# Predicting the Test Data"
   ]
  },
  {
   "cell_type": "code",
   "execution_count": 285,
   "id": "a416dd52",
   "metadata": {},
   "outputs": [
    {
     "data": {
      "text/plain": [
       "alone               0\n",
       "is_cabin_present    0\n",
       "age_catg            0\n",
       "embarked            0\n",
       "fare                0\n",
       "sex                 0\n",
       "dtype: int64"
      ]
     },
     "execution_count": 285,
     "metadata": {},
     "output_type": "execute_result"
    }
   ],
   "source": [
    "Test_X.isnull().sum()"
   ]
  },
  {
   "cell_type": "code",
   "execution_count": 294,
   "id": "2f7b6f1d",
   "metadata": {},
   "outputs": [],
   "source": [
    "Test_X_prediction = model.predict(Test_X)"
   ]
  },
  {
   "cell_type": "markdown",
   "id": "a526817e",
   "metadata": {},
   "source": [
    "# Writing Data to Submission.csv"
   ]
  },
  {
   "cell_type": "code",
   "execution_count": 295,
   "id": "80815e29",
   "metadata": {},
   "outputs": [],
   "source": [
    "Test_X_prediction = model.predict(Test_X)\n",
    "sub_df = pd.read_csv(\"../data/gender_submission.csv\")\n",
    "sub_df[\"Survived\"] = Test_X_prediction\n",
    "sub_df.to_csv(\"final_submission.csv\", index=False)"
   ]
  },
  {
   "cell_type": "code",
   "execution_count": null,
   "id": "863b4acb",
   "metadata": {},
   "outputs": [],
   "source": []
  }
 ],
 "metadata": {
  "kernelspec": {
   "display_name": "Python 3 (ipykernel)",
   "language": "python",
   "name": "python3"
  },
  "language_info": {
   "codemirror_mode": {
    "name": "ipython",
    "version": 3
   },
   "file_extension": ".py",
   "mimetype": "text/x-python",
   "name": "python",
   "nbconvert_exporter": "python",
   "pygments_lexer": "ipython3",
   "version": "3.8.10"
  }
 },
 "nbformat": 4,
 "nbformat_minor": 5
}
